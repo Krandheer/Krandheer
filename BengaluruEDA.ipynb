{
  "nbformat": 4,
  "nbformat_minor": 0,
  "metadata": {
    "colab": {
      "name": "BengaluruEDA.ipynb",
      "provenance": [],
      "collapsed_sections": [],
      "authorship_tag": "ABX9TyOwWsqr6MA+HVye31i9Ujl4",
      "include_colab_link": true
    },
    "kernelspec": {
      "name": "python3",
      "display_name": "Python 3"
    },
    "language_info": {
      "name": "python"
    }
  },
  "cells": [
    {
      "cell_type": "markdown",
      "metadata": {
        "id": "view-in-github",
        "colab_type": "text"
      },
      "source": [
        "<a href=\"https://colab.research.google.com/github/Krandheer/Krandheer/blob/main/BengaluruEDA.ipynb\" target=\"_parent\"><img src=\"https://colab.research.google.com/assets/colab-badge.svg\" alt=\"Open In Colab\"/></a>"
      ]
    },
    {
      "cell_type": "code",
      "metadata": {
        "id": "Zdp_L4TNtNZI"
      },
      "source": [
        "import pandas as pd\n",
        "import numpy as np\n",
        "import matplotlib.pyplot as plt\n",
        "import seaborn as sns\n",
        "\n",
        "sns.set_style('darkgrid')\n",
        "%matplotlib inline\n",
        "\n",
        "pd.set_option('display.float_format', lambda x: '{:.3f}'.format(x))"
      ],
      "execution_count": null,
      "outputs": []
    },
    {
      "cell_type": "code",
      "metadata": {
        "colab": {
          "base_uri": "https://localhost:8080/",
          "height": 204
        },
        "id": "33Odhs1OvnYW",
        "outputId": "72c75419-f81e-44da-807a-fec648fc3685"
      },
      "source": [
        "df = pd.read_csv('/content/Bengaluru_House_Data.csv')\n",
        "df.head()"
      ],
      "execution_count": null,
      "outputs": [
        {
          "output_type": "execute_result",
          "data": {
            "text/html": [
              "<div>\n",
              "<style scoped>\n",
              "    .dataframe tbody tr th:only-of-type {\n",
              "        vertical-align: middle;\n",
              "    }\n",
              "\n",
              "    .dataframe tbody tr th {\n",
              "        vertical-align: top;\n",
              "    }\n",
              "\n",
              "    .dataframe thead th {\n",
              "        text-align: right;\n",
              "    }\n",
              "</style>\n",
              "<table border=\"1\" class=\"dataframe\">\n",
              "  <thead>\n",
              "    <tr style=\"text-align: right;\">\n",
              "      <th></th>\n",
              "      <th>area_type</th>\n",
              "      <th>availability</th>\n",
              "      <th>location</th>\n",
              "      <th>size</th>\n",
              "      <th>society</th>\n",
              "      <th>total_sqft</th>\n",
              "      <th>bath</th>\n",
              "      <th>balcony</th>\n",
              "      <th>price</th>\n",
              "    </tr>\n",
              "  </thead>\n",
              "  <tbody>\n",
              "    <tr>\n",
              "      <th>0</th>\n",
              "      <td>Super built-up  Area</td>\n",
              "      <td>19-Dec</td>\n",
              "      <td>Electronic City Phase II</td>\n",
              "      <td>2 BHK</td>\n",
              "      <td>Coomee</td>\n",
              "      <td>1056</td>\n",
              "      <td>2.000</td>\n",
              "      <td>1.000</td>\n",
              "      <td>39.070</td>\n",
              "    </tr>\n",
              "    <tr>\n",
              "      <th>1</th>\n",
              "      <td>Plot  Area</td>\n",
              "      <td>Ready To Move</td>\n",
              "      <td>Chikka Tirupathi</td>\n",
              "      <td>4 Bedroom</td>\n",
              "      <td>Theanmp</td>\n",
              "      <td>2600</td>\n",
              "      <td>5.000</td>\n",
              "      <td>3.000</td>\n",
              "      <td>120.000</td>\n",
              "    </tr>\n",
              "    <tr>\n",
              "      <th>2</th>\n",
              "      <td>Built-up  Area</td>\n",
              "      <td>Ready To Move</td>\n",
              "      <td>Uttarahalli</td>\n",
              "      <td>3 BHK</td>\n",
              "      <td>NaN</td>\n",
              "      <td>1440</td>\n",
              "      <td>2.000</td>\n",
              "      <td>3.000</td>\n",
              "      <td>62.000</td>\n",
              "    </tr>\n",
              "    <tr>\n",
              "      <th>3</th>\n",
              "      <td>Super built-up  Area</td>\n",
              "      <td>Ready To Move</td>\n",
              "      <td>Lingadheeranahalli</td>\n",
              "      <td>3 BHK</td>\n",
              "      <td>Soiewre</td>\n",
              "      <td>1521</td>\n",
              "      <td>3.000</td>\n",
              "      <td>1.000</td>\n",
              "      <td>95.000</td>\n",
              "    </tr>\n",
              "    <tr>\n",
              "      <th>4</th>\n",
              "      <td>Super built-up  Area</td>\n",
              "      <td>Ready To Move</td>\n",
              "      <td>Kothanur</td>\n",
              "      <td>2 BHK</td>\n",
              "      <td>NaN</td>\n",
              "      <td>1200</td>\n",
              "      <td>2.000</td>\n",
              "      <td>1.000</td>\n",
              "      <td>51.000</td>\n",
              "    </tr>\n",
              "  </tbody>\n",
              "</table>\n",
              "</div>"
            ],
            "text/plain": [
              "              area_type   availability  ... balcony   price\n",
              "0  Super built-up  Area         19-Dec  ...   1.000  39.070\n",
              "1            Plot  Area  Ready To Move  ...   3.000 120.000\n",
              "2        Built-up  Area  Ready To Move  ...   3.000  62.000\n",
              "3  Super built-up  Area  Ready To Move  ...   1.000  95.000\n",
              "4  Super built-up  Area  Ready To Move  ...   1.000  51.000\n",
              "\n",
              "[5 rows x 9 columns]"
            ]
          },
          "metadata": {
            "tags": []
          },
          "execution_count": 2
        }
      ]
    },
    {
      "cell_type": "code",
      "metadata": {
        "colab": {
          "base_uri": "https://localhost:8080/"
        },
        "id": "HZyWUbnavtBW",
        "outputId": "f17bcbcf-3e69-4f72-be1a-2b2e438e9228"
      },
      "source": [
        "print(df.shape)\n",
        "print(df.dtypes)"
      ],
      "execution_count": null,
      "outputs": [
        {
          "output_type": "stream",
          "text": [
            "(13320, 9)\n",
            "area_type        object\n",
            "availability     object\n",
            "location         object\n",
            "size             object\n",
            "society          object\n",
            "total_sqft       object\n",
            "bath            float64\n",
            "balcony         float64\n",
            "price           float64\n",
            "dtype: object\n"
          ],
          "name": "stdout"
        }
      ]
    },
    {
      "cell_type": "code",
      "metadata": {
        "colab": {
          "base_uri": "https://localhost:8080/"
        },
        "id": "VvXsDE9rwTEC",
        "outputId": "b32b0f9e-fe05-4864-a894-73d428443340"
      },
      "source": [
        "print(f'number of rows and columns {df.shape}')\n",
        "for col in df.columns:\n",
        "  if df[col].isnull().values.any():\n",
        "    print(f'column: {col}, number of null values: {df[col].isnull().sum()}')"
      ],
      "execution_count": null,
      "outputs": [
        {
          "output_type": "stream",
          "text": [
            "number of rows and columns (13320, 9)\n",
            "column: location, number of null values: 1\n",
            "column: size, number of null values: 16\n",
            "column: society, number of null values: 5502\n",
            "column: bath, number of null values: 73\n",
            "column: balcony, number of null values: 609\n"
          ],
          "name": "stdout"
        }
      ]
    },
    {
      "cell_type": "markdown",
      "metadata": {
        "id": "q6WvWSd-wcwF"
      },
      "source": [
        "We have total 9 features out of which 3 are float type and 6 are of object types. among these features 5 contains null values. since location contains only 1 null values, so it can be ignored, hence left with 4 columns containing null values. among null values column society and balcony contains the most null values."
      ]
    },
    {
      "cell_type": "code",
      "metadata": {
        "colab": {
          "base_uri": "https://localhost:8080/"
        },
        "id": "1gKVA0yYwdj9",
        "outputId": "920b67e7-6461-4dab-ab53-57265511aad1"
      },
      "source": [
        "missing_ration = (df.isnull().sum()/ df.shape[0]) * 100\n",
        "missing_ration"
      ],
      "execution_count": null,
      "outputs": [
        {
          "output_type": "execute_result",
          "data": {
            "text/plain": [
              "area_type       0.000\n",
              "availability    0.000\n",
              "location        0.008\n",
              "size            0.120\n",
              "society        41.306\n",
              "total_sqft      0.000\n",
              "bath            0.548\n",
              "balcony         4.572\n",
              "price           0.000\n",
              "dtype: float64"
            ]
          },
          "metadata": {
            "tags": []
          },
          "execution_count": 5
        }
      ]
    },
    {
      "cell_type": "markdown",
      "metadata": {
        "id": "_nWuqktcwjZ6"
      },
      "source": [
        "The null value to total value ratio of society column is very high. almost 42%. society column may be ignored in further analysis and removed from dataset as half of the data is null in that column. Rest columns null value is very less, so we may like to drop those rows containning null values."
      ]
    },
    {
      "cell_type": "code",
      "metadata": {
        "colab": {
          "base_uri": "https://localhost:8080/",
          "height": 204
        },
        "id": "_z1z-SvKwkTW",
        "outputId": "4e3e5458-5f1b-47dc-8f60-12db31cafdc7"
      },
      "source": [
        "df.drop('society', axis=1, inplace=True)\n",
        "df.head()"
      ],
      "execution_count": null,
      "outputs": [
        {
          "output_type": "execute_result",
          "data": {
            "text/html": [
              "<div>\n",
              "<style scoped>\n",
              "    .dataframe tbody tr th:only-of-type {\n",
              "        vertical-align: middle;\n",
              "    }\n",
              "\n",
              "    .dataframe tbody tr th {\n",
              "        vertical-align: top;\n",
              "    }\n",
              "\n",
              "    .dataframe thead th {\n",
              "        text-align: right;\n",
              "    }\n",
              "</style>\n",
              "<table border=\"1\" class=\"dataframe\">\n",
              "  <thead>\n",
              "    <tr style=\"text-align: right;\">\n",
              "      <th></th>\n",
              "      <th>area_type</th>\n",
              "      <th>availability</th>\n",
              "      <th>location</th>\n",
              "      <th>size</th>\n",
              "      <th>total_sqft</th>\n",
              "      <th>bath</th>\n",
              "      <th>balcony</th>\n",
              "      <th>price</th>\n",
              "    </tr>\n",
              "  </thead>\n",
              "  <tbody>\n",
              "    <tr>\n",
              "      <th>0</th>\n",
              "      <td>Super built-up  Area</td>\n",
              "      <td>19-Dec</td>\n",
              "      <td>Electronic City Phase II</td>\n",
              "      <td>2 BHK</td>\n",
              "      <td>1056</td>\n",
              "      <td>2.000</td>\n",
              "      <td>1.000</td>\n",
              "      <td>39.070</td>\n",
              "    </tr>\n",
              "    <tr>\n",
              "      <th>1</th>\n",
              "      <td>Plot  Area</td>\n",
              "      <td>Ready To Move</td>\n",
              "      <td>Chikka Tirupathi</td>\n",
              "      <td>4 Bedroom</td>\n",
              "      <td>2600</td>\n",
              "      <td>5.000</td>\n",
              "      <td>3.000</td>\n",
              "      <td>120.000</td>\n",
              "    </tr>\n",
              "    <tr>\n",
              "      <th>2</th>\n",
              "      <td>Built-up  Area</td>\n",
              "      <td>Ready To Move</td>\n",
              "      <td>Uttarahalli</td>\n",
              "      <td>3 BHK</td>\n",
              "      <td>1440</td>\n",
              "      <td>2.000</td>\n",
              "      <td>3.000</td>\n",
              "      <td>62.000</td>\n",
              "    </tr>\n",
              "    <tr>\n",
              "      <th>3</th>\n",
              "      <td>Super built-up  Area</td>\n",
              "      <td>Ready To Move</td>\n",
              "      <td>Lingadheeranahalli</td>\n",
              "      <td>3 BHK</td>\n",
              "      <td>1521</td>\n",
              "      <td>3.000</td>\n",
              "      <td>1.000</td>\n",
              "      <td>95.000</td>\n",
              "    </tr>\n",
              "    <tr>\n",
              "      <th>4</th>\n",
              "      <td>Super built-up  Area</td>\n",
              "      <td>Ready To Move</td>\n",
              "      <td>Kothanur</td>\n",
              "      <td>2 BHK</td>\n",
              "      <td>1200</td>\n",
              "      <td>2.000</td>\n",
              "      <td>1.000</td>\n",
              "      <td>51.000</td>\n",
              "    </tr>\n",
              "  </tbody>\n",
              "</table>\n",
              "</div>"
            ],
            "text/plain": [
              "              area_type   availability  ... balcony   price\n",
              "0  Super built-up  Area         19-Dec  ...   1.000  39.070\n",
              "1            Plot  Area  Ready To Move  ...   3.000 120.000\n",
              "2        Built-up  Area  Ready To Move  ...   3.000  62.000\n",
              "3  Super built-up  Area  Ready To Move  ...   1.000  95.000\n",
              "4  Super built-up  Area  Ready To Move  ...   1.000  51.000\n",
              "\n",
              "[5 rows x 8 columns]"
            ]
          },
          "metadata": {
            "tags": []
          },
          "execution_count": 6
        }
      ]
    },
    {
      "cell_type": "code",
      "metadata": {
        "colab": {
          "base_uri": "https://localhost:8080/"
        },
        "id": "Y3RXupz2wtRP",
        "outputId": "3979a1fc-7bf7-4c19-9bda-2ea63dd12dc2"
      },
      "source": [
        "df.dropna(inplace=True)\n",
        "df.reset_index(drop=True, inplace = True)\n",
        "df.shape"
      ],
      "execution_count": null,
      "outputs": [
        {
          "output_type": "execute_result",
          "data": {
            "text/plain": [
              "(12710, 8)"
            ]
          },
          "metadata": {
            "tags": []
          },
          "execution_count": 7
        }
      ]
    },
    {
      "cell_type": "code",
      "metadata": {
        "id": "3c-2GoWWw6WX"
      },
      "source": [
        "df['bath']=df['bath'].astype('int')\n",
        "df['balcony']=df['balcony'].astype('int')"
      ],
      "execution_count": null,
      "outputs": []
    },
    {
      "cell_type": "code",
      "metadata": {
        "colab": {
          "base_uri": "https://localhost:8080/"
        },
        "id": "S3KljhVDxLUs",
        "outputId": "d549599d-efe2-4b91-c597-10a4291deb6d"
      },
      "source": [
        "distincts = df.apply(lambda x: x.unique().shape[0])\n",
        "distincts"
      ],
      "execution_count": null,
      "outputs": [
        {
          "output_type": "execute_result",
          "data": {
            "text/plain": [
              "area_type          4\n",
              "availability      78\n",
              "location        1265\n",
              "size              27\n",
              "total_sqft      1976\n",
              "bath              16\n",
              "balcony            4\n",
              "price           1924\n",
              "dtype: int64"
            ]
          },
          "metadata": {
            "tags": []
          },
          "execution_count": 9
        }
      ]
    },
    {
      "cell_type": "code",
      "metadata": {
        "colab": {
          "base_uri": "https://localhost:8080/",
          "height": 204
        },
        "id": "lUddAHudxOyV",
        "outputId": "a6b0f5ad-449b-46dc-8027-3a0dd958f33b"
      },
      "source": [
        "df['size']=df['size'].str.split().str[0]\n",
        "df['size']=df['size'].astype('int')\n",
        "df.head()"
      ],
      "execution_count": null,
      "outputs": [
        {
          "output_type": "execute_result",
          "data": {
            "text/html": [
              "<div>\n",
              "<style scoped>\n",
              "    .dataframe tbody tr th:only-of-type {\n",
              "        vertical-align: middle;\n",
              "    }\n",
              "\n",
              "    .dataframe tbody tr th {\n",
              "        vertical-align: top;\n",
              "    }\n",
              "\n",
              "    .dataframe thead th {\n",
              "        text-align: right;\n",
              "    }\n",
              "</style>\n",
              "<table border=\"1\" class=\"dataframe\">\n",
              "  <thead>\n",
              "    <tr style=\"text-align: right;\">\n",
              "      <th></th>\n",
              "      <th>area_type</th>\n",
              "      <th>availability</th>\n",
              "      <th>location</th>\n",
              "      <th>size</th>\n",
              "      <th>total_sqft</th>\n",
              "      <th>bath</th>\n",
              "      <th>balcony</th>\n",
              "      <th>price</th>\n",
              "    </tr>\n",
              "  </thead>\n",
              "  <tbody>\n",
              "    <tr>\n",
              "      <th>0</th>\n",
              "      <td>Super built-up  Area</td>\n",
              "      <td>19-Dec</td>\n",
              "      <td>Electronic City Phase II</td>\n",
              "      <td>2</td>\n",
              "      <td>1056</td>\n",
              "      <td>2</td>\n",
              "      <td>1</td>\n",
              "      <td>39.070</td>\n",
              "    </tr>\n",
              "    <tr>\n",
              "      <th>1</th>\n",
              "      <td>Plot  Area</td>\n",
              "      <td>Ready To Move</td>\n",
              "      <td>Chikka Tirupathi</td>\n",
              "      <td>4</td>\n",
              "      <td>2600</td>\n",
              "      <td>5</td>\n",
              "      <td>3</td>\n",
              "      <td>120.000</td>\n",
              "    </tr>\n",
              "    <tr>\n",
              "      <th>2</th>\n",
              "      <td>Built-up  Area</td>\n",
              "      <td>Ready To Move</td>\n",
              "      <td>Uttarahalli</td>\n",
              "      <td>3</td>\n",
              "      <td>1440</td>\n",
              "      <td>2</td>\n",
              "      <td>3</td>\n",
              "      <td>62.000</td>\n",
              "    </tr>\n",
              "    <tr>\n",
              "      <th>3</th>\n",
              "      <td>Super built-up  Area</td>\n",
              "      <td>Ready To Move</td>\n",
              "      <td>Lingadheeranahalli</td>\n",
              "      <td>3</td>\n",
              "      <td>1521</td>\n",
              "      <td>3</td>\n",
              "      <td>1</td>\n",
              "      <td>95.000</td>\n",
              "    </tr>\n",
              "    <tr>\n",
              "      <th>4</th>\n",
              "      <td>Super built-up  Area</td>\n",
              "      <td>Ready To Move</td>\n",
              "      <td>Kothanur</td>\n",
              "      <td>2</td>\n",
              "      <td>1200</td>\n",
              "      <td>2</td>\n",
              "      <td>1</td>\n",
              "      <td>51.000</td>\n",
              "    </tr>\n",
              "  </tbody>\n",
              "</table>\n",
              "</div>"
            ],
            "text/plain": [
              "              area_type   availability  ... balcony   price\n",
              "0  Super built-up  Area         19-Dec  ...       1  39.070\n",
              "1            Plot  Area  Ready To Move  ...       3 120.000\n",
              "2        Built-up  Area  Ready To Move  ...       3  62.000\n",
              "3  Super built-up  Area  Ready To Move  ...       1  95.000\n",
              "4  Super built-up  Area  Ready To Move  ...       1  51.000\n",
              "\n",
              "[5 rows x 8 columns]"
            ]
          },
          "metadata": {
            "tags": []
          },
          "execution_count": 10
        }
      ]
    },
    {
      "cell_type": "markdown",
      "metadata": {
        "id": "DJP87y1Jvy-m"
      },
      "source": [
        "we should convert size and total_sqft in numerical data types."
      ]
    },
    {
      "cell_type": "code",
      "metadata": {
        "id": "SxKtJi8Xv9Q_"
      },
      "source": [
        "def convert(x):\n",
        "  x=str(x)\n",
        "  temp=x.split('-')\n",
        "  if len(temp)==2:\n",
        "    return (float(temp[0])+float(temp[1]))/2\n",
        "  try:\n",
        "    return float(x)\n",
        "  except:\n",
        "    return None"
      ],
      "execution_count": null,
      "outputs": []
    },
    {
      "cell_type": "code",
      "metadata": {
        "colab": {
          "base_uri": "https://localhost:8080/"
        },
        "id": "VfkwMsqMwIkw",
        "outputId": "dbb560f7-7464-4590-c514-b07e685a0f22"
      },
      "source": [
        "df.total_sqft=df.total_sqft.apply(convert)\n",
        "df.dropna(inplace=True)\n",
        "df.reset_index(drop=True, inplace = True)\n",
        "df['total_sqft']=df['total_sqft'].astype('int')\n",
        "df.shape"
      ],
      "execution_count": null,
      "outputs": [
        {
          "output_type": "execute_result",
          "data": {
            "text/plain": [
              "(12668, 8)"
            ]
          },
          "metadata": {
            "tags": []
          },
          "execution_count": 12
        }
      ]
    },
    {
      "cell_type": "code",
      "metadata": {
        "colab": {
          "base_uri": "https://localhost:8080/"
        },
        "id": "uKq1mE6MxaWy",
        "outputId": "6f27d8eb-5c81-4ddf-88fc-1b28a38677ce"
      },
      "source": [
        "df.dtypes"
      ],
      "execution_count": null,
      "outputs": [
        {
          "output_type": "execute_result",
          "data": {
            "text/plain": [
              "area_type        object\n",
              "availability     object\n",
              "location         object\n",
              "size              int64\n",
              "total_sqft        int64\n",
              "bath              int64\n",
              "balcony           int64\n",
              "price           float64\n",
              "dtype: object"
            ]
          },
          "metadata": {
            "tags": []
          },
          "execution_count": 13
        }
      ]
    },
    {
      "cell_type": "code",
      "metadata": {
        "colab": {
          "base_uri": "https://localhost:8080/",
          "height": 204
        },
        "id": "fXIaqiFlxcgu",
        "outputId": "553faab7-4b0f-4a4c-c4a1-dc6f2bce4011"
      },
      "source": [
        "df.corr()"
      ],
      "execution_count": null,
      "outputs": [
        {
          "output_type": "execute_result",
          "data": {
            "text/html": [
              "<div>\n",
              "<style scoped>\n",
              "    .dataframe tbody tr th:only-of-type {\n",
              "        vertical-align: middle;\n",
              "    }\n",
              "\n",
              "    .dataframe tbody tr th {\n",
              "        vertical-align: top;\n",
              "    }\n",
              "\n",
              "    .dataframe thead th {\n",
              "        text-align: right;\n",
              "    }\n",
              "</style>\n",
              "<table border=\"1\" class=\"dataframe\">\n",
              "  <thead>\n",
              "    <tr style=\"text-align: right;\">\n",
              "      <th></th>\n",
              "      <th>size</th>\n",
              "      <th>total_sqft</th>\n",
              "      <th>bath</th>\n",
              "      <th>balcony</th>\n",
              "      <th>price</th>\n",
              "    </tr>\n",
              "  </thead>\n",
              "  <tbody>\n",
              "    <tr>\n",
              "      <th>size</th>\n",
              "      <td>1.000</td>\n",
              "      <td>0.349</td>\n",
              "      <td>0.887</td>\n",
              "      <td>0.187</td>\n",
              "      <td>0.407</td>\n",
              "    </tr>\n",
              "    <tr>\n",
              "      <th>total_sqft</th>\n",
              "      <td>0.349</td>\n",
              "      <td>1.000</td>\n",
              "      <td>0.394</td>\n",
              "      <td>0.149</td>\n",
              "      <td>0.559</td>\n",
              "    </tr>\n",
              "    <tr>\n",
              "      <th>bath</th>\n",
              "      <td>0.887</td>\n",
              "      <td>0.394</td>\n",
              "      <td>1.000</td>\n",
              "      <td>0.204</td>\n",
              "      <td>0.459</td>\n",
              "    </tr>\n",
              "    <tr>\n",
              "      <th>balcony</th>\n",
              "      <td>0.187</td>\n",
              "      <td>0.149</td>\n",
              "      <td>0.204</td>\n",
              "      <td>1.000</td>\n",
              "      <td>0.120</td>\n",
              "    </tr>\n",
              "    <tr>\n",
              "      <th>price</th>\n",
              "      <td>0.407</td>\n",
              "      <td>0.559</td>\n",
              "      <td>0.459</td>\n",
              "      <td>0.120</td>\n",
              "      <td>1.000</td>\n",
              "    </tr>\n",
              "  </tbody>\n",
              "</table>\n",
              "</div>"
            ],
            "text/plain": [
              "            size  total_sqft  bath  balcony  price\n",
              "size       1.000       0.349 0.887    0.187  0.407\n",
              "total_sqft 0.349       1.000 0.394    0.149  0.559\n",
              "bath       0.887       0.394 1.000    0.204  0.459\n",
              "balcony    0.187       0.149 0.204    1.000  0.120\n",
              "price      0.407       0.559 0.459    0.120  1.000"
            ]
          },
          "metadata": {
            "tags": []
          },
          "execution_count": 14
        }
      ]
    },
    {
      "cell_type": "code",
      "metadata": {
        "id": "wQoDNPaIxm4I"
      },
      "source": [
        "def change_to_numeric(x):\n",
        "    if x == 'Super built-up  Area':\n",
        "        return 0\n",
        "    elif x == 'Plot  Area':\n",
        "        return 1\n",
        "    elif x == 'Built-up  Area':\n",
        "        return 2\n",
        "    else:\n",
        "        return 3\n",
        "\n",
        "df['area_type_numeric'] = df['area_type'].apply(change_to_numeric)"
      ],
      "execution_count": null,
      "outputs": []
    },
    {
      "cell_type": "code",
      "metadata": {
        "colab": {
          "base_uri": "https://localhost:8080/",
          "height": 111
        },
        "id": "nDat3XK50Y1E",
        "outputId": "c2873996-3688-46ce-c5ad-a5130d8f802c"
      },
      "source": [
        "df2 = df[['area_type_numeric', 'price']]\n",
        "df2.corr()"
      ],
      "execution_count": null,
      "outputs": [
        {
          "output_type": "execute_result",
          "data": {
            "text/html": [
              "<div>\n",
              "<style scoped>\n",
              "    .dataframe tbody tr th:only-of-type {\n",
              "        vertical-align: middle;\n",
              "    }\n",
              "\n",
              "    .dataframe tbody tr th {\n",
              "        vertical-align: top;\n",
              "    }\n",
              "\n",
              "    .dataframe thead th {\n",
              "        text-align: right;\n",
              "    }\n",
              "</style>\n",
              "<table border=\"1\" class=\"dataframe\">\n",
              "  <thead>\n",
              "    <tr style=\"text-align: right;\">\n",
              "      <th></th>\n",
              "      <th>area_type_numeric</th>\n",
              "      <th>price</th>\n",
              "    </tr>\n",
              "  </thead>\n",
              "  <tbody>\n",
              "    <tr>\n",
              "      <th>area_type_numeric</th>\n",
              "      <td>1.000</td>\n",
              "      <td>0.096</td>\n",
              "    </tr>\n",
              "    <tr>\n",
              "      <th>price</th>\n",
              "      <td>0.096</td>\n",
              "      <td>1.000</td>\n",
              "    </tr>\n",
              "  </tbody>\n",
              "</table>\n",
              "</div>"
            ],
            "text/plain": [
              "                   area_type_numeric  price\n",
              "area_type_numeric              1.000  0.096\n",
              "price                          0.096  1.000"
            ]
          },
          "metadata": {
            "tags": []
          },
          "execution_count": 16
        }
      ]
    },
    {
      "cell_type": "markdown",
      "metadata": {
        "id": "bwJtaeOj0dIY"
      },
      "source": [
        "we can see that area_type has very less to do with price hence we may drop that column itself."
      ]
    },
    {
      "cell_type": "code",
      "metadata": {
        "colab": {
          "base_uri": "https://localhost:8080/",
          "height": 111
        },
        "id": "40_35HKi03nF",
        "outputId": "b75b4116-fa87-428a-e638-4b300f19c49f"
      },
      "source": [
        "df_temp = df[['balcony', 'price']]\n",
        "df_temp.corr()\n"
      ],
      "execution_count": null,
      "outputs": [
        {
          "output_type": "execute_result",
          "data": {
            "text/html": [
              "<div>\n",
              "<style scoped>\n",
              "    .dataframe tbody tr th:only-of-type {\n",
              "        vertical-align: middle;\n",
              "    }\n",
              "\n",
              "    .dataframe tbody tr th {\n",
              "        vertical-align: top;\n",
              "    }\n",
              "\n",
              "    .dataframe thead th {\n",
              "        text-align: right;\n",
              "    }\n",
              "</style>\n",
              "<table border=\"1\" class=\"dataframe\">\n",
              "  <thead>\n",
              "    <tr style=\"text-align: right;\">\n",
              "      <th></th>\n",
              "      <th>balcony</th>\n",
              "      <th>price</th>\n",
              "    </tr>\n",
              "  </thead>\n",
              "  <tbody>\n",
              "    <tr>\n",
              "      <th>balcony</th>\n",
              "      <td>1.000</td>\n",
              "      <td>0.120</td>\n",
              "    </tr>\n",
              "    <tr>\n",
              "      <th>price</th>\n",
              "      <td>0.120</td>\n",
              "      <td>1.000</td>\n",
              "    </tr>\n",
              "  </tbody>\n",
              "</table>\n",
              "</div>"
            ],
            "text/plain": [
              "         balcony  price\n",
              "balcony    1.000  0.120\n",
              "price      0.120  1.000"
            ]
          },
          "metadata": {
            "tags": []
          },
          "execution_count": 17
        }
      ]
    },
    {
      "cell_type": "markdown",
      "metadata": {
        "id": "U0pBZ9GU2wMg"
      },
      "source": [
        "we see that balcony with area_type has very less to do with price hence balcony column may be dropped\n"
      ]
    },
    {
      "cell_type": "code",
      "metadata": {
        "id": "6qVs-h4C1Dls"
      },
      "source": [
        "def ready(x):\n",
        "    if x == 'Ready To Move':\n",
        "        return 1\n",
        "    else:\n",
        "        return 0\n",
        "df['availability'] = df['availability'].apply(ready)"
      ],
      "execution_count": null,
      "outputs": []
    },
    {
      "cell_type": "code",
      "metadata": {
        "colab": {
          "base_uri": "https://localhost:8080/",
          "height": 111
        },
        "id": "pp-yJspL2C0G",
        "outputId": "bcbdd180-bc02-451e-a0d3-4276a5ef35bb"
      },
      "source": [
        "df_temp = df[['availability', 'price']]\n",
        "df_temp.corr()"
      ],
      "execution_count": null,
      "outputs": [
        {
          "output_type": "execute_result",
          "data": {
            "text/html": [
              "<div>\n",
              "<style scoped>\n",
              "    .dataframe tbody tr th:only-of-type {\n",
              "        vertical-align: middle;\n",
              "    }\n",
              "\n",
              "    .dataframe tbody tr th {\n",
              "        vertical-align: top;\n",
              "    }\n",
              "\n",
              "    .dataframe thead th {\n",
              "        text-align: right;\n",
              "    }\n",
              "</style>\n",
              "<table border=\"1\" class=\"dataframe\">\n",
              "  <thead>\n",
              "    <tr style=\"text-align: right;\">\n",
              "      <th></th>\n",
              "      <th>availability</th>\n",
              "      <th>price</th>\n",
              "    </tr>\n",
              "  </thead>\n",
              "  <tbody>\n",
              "    <tr>\n",
              "      <th>availability</th>\n",
              "      <td>1.000</td>\n",
              "      <td>0.031</td>\n",
              "    </tr>\n",
              "    <tr>\n",
              "      <th>price</th>\n",
              "      <td>0.031</td>\n",
              "      <td>1.000</td>\n",
              "    </tr>\n",
              "  </tbody>\n",
              "</table>\n",
              "</div>"
            ],
            "text/plain": [
              "              availability  price\n",
              "availability         1.000  0.031\n",
              "price                0.031  1.000"
            ]
          },
          "metadata": {
            "tags": []
          },
          "execution_count": 19
        }
      ]
    },
    {
      "cell_type": "markdown",
      "metadata": {
        "id": "admwCxb22P5r"
      },
      "source": [
        "we can see that availibility with balcony and area_type has very less to do with price hence availibility column can be dropped."
      ]
    },
    {
      "cell_type": "code",
      "metadata": {
        "colab": {
          "base_uri": "https://localhost:8080/",
          "height": 204
        },
        "id": "gXmeQSwY2YfF",
        "outputId": "0960eaee-bf00-4313-cda7-7a40b33e7e10"
      },
      "source": [
        "df_1 = df.copy()\n",
        "df_1.head()"
      ],
      "execution_count": null,
      "outputs": [
        {
          "output_type": "execute_result",
          "data": {
            "text/html": [
              "<div>\n",
              "<style scoped>\n",
              "    .dataframe tbody tr th:only-of-type {\n",
              "        vertical-align: middle;\n",
              "    }\n",
              "\n",
              "    .dataframe tbody tr th {\n",
              "        vertical-align: top;\n",
              "    }\n",
              "\n",
              "    .dataframe thead th {\n",
              "        text-align: right;\n",
              "    }\n",
              "</style>\n",
              "<table border=\"1\" class=\"dataframe\">\n",
              "  <thead>\n",
              "    <tr style=\"text-align: right;\">\n",
              "      <th></th>\n",
              "      <th>area_type</th>\n",
              "      <th>availability</th>\n",
              "      <th>location</th>\n",
              "      <th>size</th>\n",
              "      <th>total_sqft</th>\n",
              "      <th>bath</th>\n",
              "      <th>balcony</th>\n",
              "      <th>price</th>\n",
              "      <th>area_type_numeric</th>\n",
              "    </tr>\n",
              "  </thead>\n",
              "  <tbody>\n",
              "    <tr>\n",
              "      <th>0</th>\n",
              "      <td>Super built-up  Area</td>\n",
              "      <td>0</td>\n",
              "      <td>Electronic City Phase II</td>\n",
              "      <td>2</td>\n",
              "      <td>1056</td>\n",
              "      <td>2</td>\n",
              "      <td>1</td>\n",
              "      <td>39.070</td>\n",
              "      <td>0</td>\n",
              "    </tr>\n",
              "    <tr>\n",
              "      <th>1</th>\n",
              "      <td>Plot  Area</td>\n",
              "      <td>1</td>\n",
              "      <td>Chikka Tirupathi</td>\n",
              "      <td>4</td>\n",
              "      <td>2600</td>\n",
              "      <td>5</td>\n",
              "      <td>3</td>\n",
              "      <td>120.000</td>\n",
              "      <td>1</td>\n",
              "    </tr>\n",
              "    <tr>\n",
              "      <th>2</th>\n",
              "      <td>Built-up  Area</td>\n",
              "      <td>1</td>\n",
              "      <td>Uttarahalli</td>\n",
              "      <td>3</td>\n",
              "      <td>1440</td>\n",
              "      <td>2</td>\n",
              "      <td>3</td>\n",
              "      <td>62.000</td>\n",
              "      <td>2</td>\n",
              "    </tr>\n",
              "    <tr>\n",
              "      <th>3</th>\n",
              "      <td>Super built-up  Area</td>\n",
              "      <td>1</td>\n",
              "      <td>Lingadheeranahalli</td>\n",
              "      <td>3</td>\n",
              "      <td>1521</td>\n",
              "      <td>3</td>\n",
              "      <td>1</td>\n",
              "      <td>95.000</td>\n",
              "      <td>0</td>\n",
              "    </tr>\n",
              "    <tr>\n",
              "      <th>4</th>\n",
              "      <td>Super built-up  Area</td>\n",
              "      <td>1</td>\n",
              "      <td>Kothanur</td>\n",
              "      <td>2</td>\n",
              "      <td>1200</td>\n",
              "      <td>2</td>\n",
              "      <td>1</td>\n",
              "      <td>51.000</td>\n",
              "      <td>0</td>\n",
              "    </tr>\n",
              "  </tbody>\n",
              "</table>\n",
              "</div>"
            ],
            "text/plain": [
              "              area_type  availability  ...   price  area_type_numeric\n",
              "0  Super built-up  Area             0  ...  39.070                  0\n",
              "1            Plot  Area             1  ... 120.000                  1\n",
              "2        Built-up  Area             1  ...  62.000                  2\n",
              "3  Super built-up  Area             1  ...  95.000                  0\n",
              "4  Super built-up  Area             1  ...  51.000                  0\n",
              "\n",
              "[5 rows x 9 columns]"
            ]
          },
          "metadata": {
            "tags": []
          },
          "execution_count": 20
        }
      ]
    },
    {
      "cell_type": "code",
      "metadata": {
        "colab": {
          "base_uri": "https://localhost:8080/",
          "height": 204
        },
        "id": "m4G-OMGX2rAQ",
        "outputId": "00ca310a-5315-415e-dc1d-b0171779dc9f"
      },
      "source": [
        "df_1.drop(['balcony', 'area_type', 'availability'], axis = 1, inplace=True)\n",
        "df_1.head()"
      ],
      "execution_count": null,
      "outputs": [
        {
          "output_type": "execute_result",
          "data": {
            "text/html": [
              "<div>\n",
              "<style scoped>\n",
              "    .dataframe tbody tr th:only-of-type {\n",
              "        vertical-align: middle;\n",
              "    }\n",
              "\n",
              "    .dataframe tbody tr th {\n",
              "        vertical-align: top;\n",
              "    }\n",
              "\n",
              "    .dataframe thead th {\n",
              "        text-align: right;\n",
              "    }\n",
              "</style>\n",
              "<table border=\"1\" class=\"dataframe\">\n",
              "  <thead>\n",
              "    <tr style=\"text-align: right;\">\n",
              "      <th></th>\n",
              "      <th>location</th>\n",
              "      <th>size</th>\n",
              "      <th>total_sqft</th>\n",
              "      <th>bath</th>\n",
              "      <th>price</th>\n",
              "      <th>area_type_numeric</th>\n",
              "    </tr>\n",
              "  </thead>\n",
              "  <tbody>\n",
              "    <tr>\n",
              "      <th>0</th>\n",
              "      <td>Electronic City Phase II</td>\n",
              "      <td>2</td>\n",
              "      <td>1056</td>\n",
              "      <td>2</td>\n",
              "      <td>39.070</td>\n",
              "      <td>0</td>\n",
              "    </tr>\n",
              "    <tr>\n",
              "      <th>1</th>\n",
              "      <td>Chikka Tirupathi</td>\n",
              "      <td>4</td>\n",
              "      <td>2600</td>\n",
              "      <td>5</td>\n",
              "      <td>120.000</td>\n",
              "      <td>1</td>\n",
              "    </tr>\n",
              "    <tr>\n",
              "      <th>2</th>\n",
              "      <td>Uttarahalli</td>\n",
              "      <td>3</td>\n",
              "      <td>1440</td>\n",
              "      <td>2</td>\n",
              "      <td>62.000</td>\n",
              "      <td>2</td>\n",
              "    </tr>\n",
              "    <tr>\n",
              "      <th>3</th>\n",
              "      <td>Lingadheeranahalli</td>\n",
              "      <td>3</td>\n",
              "      <td>1521</td>\n",
              "      <td>3</td>\n",
              "      <td>95.000</td>\n",
              "      <td>0</td>\n",
              "    </tr>\n",
              "    <tr>\n",
              "      <th>4</th>\n",
              "      <td>Kothanur</td>\n",
              "      <td>2</td>\n",
              "      <td>1200</td>\n",
              "      <td>2</td>\n",
              "      <td>51.000</td>\n",
              "      <td>0</td>\n",
              "    </tr>\n",
              "  </tbody>\n",
              "</table>\n",
              "</div>"
            ],
            "text/plain": [
              "                   location  size  total_sqft  bath   price  area_type_numeric\n",
              "0  Electronic City Phase II     2        1056     2  39.070                  0\n",
              "1          Chikka Tirupathi     4        2600     5 120.000                  1\n",
              "2               Uttarahalli     3        1440     2  62.000                  2\n",
              "3        Lingadheeranahalli     3        1521     3  95.000                  0\n",
              "4                  Kothanur     2        1200     2  51.000                  0"
            ]
          },
          "metadata": {
            "tags": []
          },
          "execution_count": 21
        }
      ]
    },
    {
      "cell_type": "code",
      "metadata": {
        "colab": {
          "base_uri": "https://localhost:8080/"
        },
        "id": "EEVVp27B73d5",
        "outputId": "34dc38ad-6d75-4cdf-a00b-b1e19e348234"
      },
      "source": [
        "df_1.dtypes"
      ],
      "execution_count": null,
      "outputs": [
        {
          "output_type": "execute_result",
          "data": {
            "text/plain": [
              "location              object\n",
              "size                   int64\n",
              "total_sqft             int64\n",
              "bath                   int64\n",
              "price                float64\n",
              "area_type_numeric      int64\n",
              "dtype: object"
            ]
          },
          "metadata": {
            "tags": []
          },
          "execution_count": 22
        }
      ]
    },
    {
      "cell_type": "code",
      "metadata": {
        "colab": {
          "base_uri": "https://localhost:8080/"
        },
        "id": "PVZmDeFE8VLu",
        "outputId": "a35a6895-eba8-45e2-b145-6ce49803b653"
      },
      "source": [
        "location_stat=df_1['location'].value_counts()\n",
        "location_stat"
      ],
      "execution_count": null,
      "outputs": [
        {
          "output_type": "execute_result",
          "data": {
            "text/plain": [
              "Whitefield                              513\n",
              "Sarjapur  Road                          372\n",
              "Electronic City                         300\n",
              "Kanakpura Road                          259\n",
              "Thanisandra                             230\n",
              "                                       ... \n",
              "kadubisnahalli                            1\n",
              "Kengeri Satellite Town KHB Apartment      1\n",
              "1A Block Koramangala                      1\n",
              "Rajagopala Nagar                          1\n",
              "Karnataka Shabarimala                     1\n",
              "Name: location, Length: 1259, dtype: int64"
            ]
          },
          "metadata": {
            "tags": []
          },
          "execution_count": 23
        }
      ]
    },
    {
      "cell_type": "code",
      "metadata": {
        "colab": {
          "base_uri": "https://localhost:8080/"
        },
        "id": "Sl7-fwmX8abb",
        "outputId": "4dc11767-a0ab-4614-b1df-d27cc18b9909"
      },
      "source": [
        "#store location which is less than 10 times atleast \n",
        "location_stat5=location_stat[location_stat< 10]\n",
        "location_stat5"
      ],
      "execution_count": null,
      "outputs": [
        {
          "output_type": "execute_result",
          "data": {
            "text/plain": [
              "Gollahalli                              9\n",
              "Nagadevanahalli                         9\n",
              "Chennammana Kere                        9\n",
              "Chandra Layout                          9\n",
              "Kaverappa Layout                        9\n",
              "                                       ..\n",
              "kadubisnahalli                          1\n",
              "Kengeri Satellite Town KHB Apartment    1\n",
              "1A Block Koramangala                    1\n",
              "Rajagopala Nagar                        1\n",
              "Karnataka Shabarimala                   1\n",
              "Name: location, Length: 1012, dtype: int64"
            ]
          },
          "metadata": {
            "tags": []
          },
          "execution_count": 24
        }
      ]
    },
    {
      "cell_type": "code",
      "metadata": {
        "id": "8X52N2D78evY"
      },
      "source": [
        "#replacing location which appear less than 5 times in data with value as \"others\"\n",
        "df_1['location'] = df_1['location'].apply(lambda x : 'Others' if x in location_stat5 else x)"
      ],
      "execution_count": null,
      "outputs": []
    },
    {
      "cell_type": "code",
      "metadata": {
        "colab": {
          "base_uri": "https://localhost:8080/"
        },
        "id": "ZhqKe3Vf8oYQ",
        "outputId": "72a29d88-4f4d-4a51-bfe4-5c7d1d627275"
      },
      "source": [
        "df_1['location'].value_counts()"
      ],
      "execution_count": null,
      "outputs": [
        {
          "output_type": "execute_result",
          "data": {
            "text/plain": [
              "Others                  2636\n",
              "Whitefield               513\n",
              "Sarjapur  Road           372\n",
              "Electronic City          300\n",
              "Kanakpura Road           259\n",
              "                        ... \n",
              "Nagappa Reddy Layout      10\n",
              "Kalkere                   10\n",
              "Doddaballapur             10\n",
              "HAL 2nd Stage             10\n",
              "Naganathapura             10\n",
              "Name: location, Length: 248, dtype: int64"
            ]
          },
          "metadata": {
            "tags": []
          },
          "execution_count": 26
        }
      ]
    },
    {
      "cell_type": "code",
      "metadata": {
        "colab": {
          "base_uri": "https://localhost:8080/",
          "height": 296
        },
        "id": "y_TXHmBf-K72",
        "outputId": "01e2055e-3073-4f32-8b31-92cacf77de87"
      },
      "source": [
        "plt.hist(df_1.bath, color = \"black\")\n",
        "plt.xlabel(\"Number of bathrooms\")\n",
        "plt.ylabel(\"Count\")"
      ],
      "execution_count": null,
      "outputs": [
        {
          "output_type": "execute_result",
          "data": {
            "text/plain": [
              "Text(0, 0.5, 'Count')"
            ]
          },
          "metadata": {
            "tags": []
          },
          "execution_count": 27
        },
        {
          "output_type": "display_data",
          "data": {
            "image/png": "[encoded data removed]",
            "text/plain": [
              "<Figure size 432x288 with 1 Axes>"
            ]
          },
          "metadata": {
            "tags": [],
            "needs_background": "light"
          }
        }
      ]
    },
    {
      "cell_type": "code",
      "metadata": {
        "colab": {
          "base_uri": "https://localhost:8080/"
        },
        "id": "gQURaRtS-QcH",
        "outputId": "038d13ba-413c-4f2a-ebf9-fa50a9c1071d"
      },
      "source": [
        "df_1.bath.value_counts()"
      ],
      "execution_count": null,
      "outputs": [
        {
          "output_type": "execute_result",
          "data": {
            "text/plain": [
              "2     6820\n",
              "3     3134\n",
              "4     1105\n",
              "1      779\n",
              "5      428\n",
              "6      240\n",
              "7       82\n",
              "8       42\n",
              "9       26\n",
              "10       6\n",
              "15       1\n",
              "13       1\n",
              "12       1\n",
              "27       1\n",
              "11       1\n",
              "40       1\n",
              "Name: bath, dtype: int64"
            ]
          },
          "metadata": {
            "tags": []
          },
          "execution_count": 28
        }
      ]
    },
    {
      "cell_type": "markdown",
      "metadata": {
        "id": "MetqQkun-j9m"
      },
      "source": [
        "we can remove all data in which number of bathroom is greater than 10."
      ]
    },
    {
      "cell_type": "code",
      "metadata": {
        "colab": {
          "base_uri": "https://localhost:8080/"
        },
        "id": "nH4ZqBcV-R7k",
        "outputId": "c7293fa2-7c15-4aa2-d334-af7f4ecdd0e5"
      },
      "source": [
        "df_1 = df_1[df_1.bath<10]\n",
        "df_1.bath.value_counts()"
      ],
      "execution_count": null,
      "outputs": [
        {
          "output_type": "execute_result",
          "data": {
            "text/plain": [
              "2    6820\n",
              "3    3134\n",
              "4    1105\n",
              "1     779\n",
              "5     428\n",
              "6     240\n",
              "7      82\n",
              "8      42\n",
              "9      26\n",
              "Name: bath, dtype: int64"
            ]
          },
          "metadata": {
            "tags": []
          },
          "execution_count": 29
        }
      ]
    },
    {
      "cell_type": "code",
      "metadata": {
        "colab": {
          "base_uri": "https://localhost:8080/",
          "height": 903
        },
        "id": "YdXC5B8T_7Q9",
        "outputId": "dfc8eaa9-faaa-4fb4-9338-7740947f43e4"
      },
      "source": [
        "df_2 = df_1.copy()\n",
        "sns.pairplot(df_2)\n",
        "plt.show()"
      ],
      "execution_count": null,
      "outputs": [
        {
          "output_type": "display_data",
          "data": {
            "image/png": "[encoded data removed]",
            "text/plain": [
              "<Figure size 900x900 with 30 Axes>"
            ]
          },
          "metadata": {
            "tags": [],
            "needs_background": "light"
          }
        }
      ]
    },
    {
      "cell_type": "markdown",
      "metadata": {
        "id": "umZrcfwNA9wH"
      },
      "source": [
        "from above plot we can see that if we treat price as target then total_sqft greater than 20000 is outliers, so we may remove them."
      ]
    },
    {
      "cell_type": "code",
      "metadata": {
        "colab": {
          "base_uri": "https://localhost:8080/",
          "height": 258
        },
        "id": "t7M49-ygBLEF",
        "outputId": "457058ac-0d09-4a7a-f230-dc64e6c7820e"
      },
      "source": [
        "df_1=df_1[df['total_sqft']<30000]\n",
        "df_1.corr()"
      ],
      "execution_count": null,
      "outputs": [
        {
          "output_type": "stream",
          "text": [
            "/usr/local/lib/python3.7/dist-packages/ipykernel_launcher.py:1: UserWarning: Boolean Series key will be reindexed to match DataFrame index.\n",
            "  \"\"\"Entry point for launching an IPython kernel.\n"
          ],
          "name": "stderr"
        },
        {
          "output_type": "execute_result",
          "data": {
            "text/html": [
              "<div>\n",
              "<style scoped>\n",
              "    .dataframe tbody tr th:only-of-type {\n",
              "        vertical-align: middle;\n",
              "    }\n",
              "\n",
              "    .dataframe tbody tr th {\n",
              "        vertical-align: top;\n",
              "    }\n",
              "\n",
              "    .dataframe thead th {\n",
              "        text-align: right;\n",
              "    }\n",
              "</style>\n",
              "<table border=\"1\" class=\"dataframe\">\n",
              "  <thead>\n",
              "    <tr style=\"text-align: right;\">\n",
              "      <th></th>\n",
              "      <th>size</th>\n",
              "      <th>total_sqft</th>\n",
              "      <th>bath</th>\n",
              "      <th>price</th>\n",
              "      <th>area_type_numeric</th>\n",
              "    </tr>\n",
              "  </thead>\n",
              "  <tbody>\n",
              "    <tr>\n",
              "      <th>size</th>\n",
              "      <td>1.000</td>\n",
              "      <td>0.448</td>\n",
              "      <td>0.869</td>\n",
              "      <td>0.425</td>\n",
              "      <td>0.185</td>\n",
              "    </tr>\n",
              "    <tr>\n",
              "      <th>total_sqft</th>\n",
              "      <td>0.448</td>\n",
              "      <td>1.000</td>\n",
              "      <td>0.523</td>\n",
              "      <td>0.702</td>\n",
              "      <td>0.070</td>\n",
              "    </tr>\n",
              "    <tr>\n",
              "      <th>bath</th>\n",
              "      <td>0.869</td>\n",
              "      <td>0.523</td>\n",
              "      <td>1.000</td>\n",
              "      <td>0.484</td>\n",
              "      <td>0.155</td>\n",
              "    </tr>\n",
              "    <tr>\n",
              "      <th>price</th>\n",
              "      <td>0.425</td>\n",
              "      <td>0.702</td>\n",
              "      <td>0.484</td>\n",
              "      <td>1.000</td>\n",
              "      <td>0.096</td>\n",
              "    </tr>\n",
              "    <tr>\n",
              "      <th>area_type_numeric</th>\n",
              "      <td>0.185</td>\n",
              "      <td>0.070</td>\n",
              "      <td>0.155</td>\n",
              "      <td>0.096</td>\n",
              "      <td>1.000</td>\n",
              "    </tr>\n",
              "  </tbody>\n",
              "</table>\n",
              "</div>"
            ],
            "text/plain": [
              "                   size  total_sqft  bath  price  area_type_numeric\n",
              "size              1.000       0.448 0.869  0.425              0.185\n",
              "total_sqft        0.448       1.000 0.523  0.702              0.070\n",
              "bath              0.869       0.523 1.000  0.484              0.155\n",
              "price             0.425       0.702 0.484  1.000              0.096\n",
              "area_type_numeric 0.185       0.070 0.155  0.096              1.000"
            ]
          },
          "metadata": {
            "tags": []
          },
          "execution_count": 31
        }
      ]
    },
    {
      "cell_type": "markdown",
      "metadata": {
        "id": "7OPQO7ESBYy0"
      },
      "source": [
        "from above correlation study we can see that in correlation with price, area_type_numeric column can be delete"
      ]
    },
    {
      "cell_type": "code",
      "metadata": {
        "id": "l1a3g6nABkxV",
        "colab": {
          "base_uri": "https://localhost:8080/"
        },
        "outputId": "3f5618ef-f817-49c5-efd6-a9334505b1ff"
      },
      "source": [
        "df_1.drop('area_type_numeric', axis=1, inplace=True)\n",
        "df_1.shape"
      ],
      "execution_count": null,
      "outputs": [
        {
          "output_type": "execute_result",
          "data": {
            "text/plain": [
              "(12651, 5)"
            ]
          },
          "metadata": {
            "tags": []
          },
          "execution_count": 32
        }
      ]
    },
    {
      "cell_type": "code",
      "metadata": {
        "colab": {
          "base_uri": "https://localhost:8080/",
          "height": 204
        },
        "id": "fxDB_AqqB7XP",
        "outputId": "5ee84fe7-437f-4b9e-e071-aacd159c852f"
      },
      "source": [
        "df_1.head()"
      ],
      "execution_count": null,
      "outputs": [
        {
          "output_type": "execute_result",
          "data": {
            "text/html": [
              "<div>\n",
              "<style scoped>\n",
              "    .dataframe tbody tr th:only-of-type {\n",
              "        vertical-align: middle;\n",
              "    }\n",
              "\n",
              "    .dataframe tbody tr th {\n",
              "        vertical-align: top;\n",
              "    }\n",
              "\n",
              "    .dataframe thead th {\n",
              "        text-align: right;\n",
              "    }\n",
              "</style>\n",
              "<table border=\"1\" class=\"dataframe\">\n",
              "  <thead>\n",
              "    <tr style=\"text-align: right;\">\n",
              "      <th></th>\n",
              "      <th>location</th>\n",
              "      <th>size</th>\n",
              "      <th>total_sqft</th>\n",
              "      <th>bath</th>\n",
              "      <th>price</th>\n",
              "    </tr>\n",
              "  </thead>\n",
              "  <tbody>\n",
              "    <tr>\n",
              "      <th>0</th>\n",
              "      <td>Electronic City Phase II</td>\n",
              "      <td>2</td>\n",
              "      <td>1056</td>\n",
              "      <td>2</td>\n",
              "      <td>39.070</td>\n",
              "    </tr>\n",
              "    <tr>\n",
              "      <th>1</th>\n",
              "      <td>Chikka Tirupathi</td>\n",
              "      <td>4</td>\n",
              "      <td>2600</td>\n",
              "      <td>5</td>\n",
              "      <td>120.000</td>\n",
              "    </tr>\n",
              "    <tr>\n",
              "      <th>2</th>\n",
              "      <td>Uttarahalli</td>\n",
              "      <td>3</td>\n",
              "      <td>1440</td>\n",
              "      <td>2</td>\n",
              "      <td>62.000</td>\n",
              "    </tr>\n",
              "    <tr>\n",
              "      <th>3</th>\n",
              "      <td>Lingadheeranahalli</td>\n",
              "      <td>3</td>\n",
              "      <td>1521</td>\n",
              "      <td>3</td>\n",
              "      <td>95.000</td>\n",
              "    </tr>\n",
              "    <tr>\n",
              "      <th>4</th>\n",
              "      <td>Kothanur</td>\n",
              "      <td>2</td>\n",
              "      <td>1200</td>\n",
              "      <td>2</td>\n",
              "      <td>51.000</td>\n",
              "    </tr>\n",
              "  </tbody>\n",
              "</table>\n",
              "</div>"
            ],
            "text/plain": [
              "                   location  size  total_sqft  bath   price\n",
              "0  Electronic City Phase II     2        1056     2  39.070\n",
              "1          Chikka Tirupathi     4        2600     5 120.000\n",
              "2               Uttarahalli     3        1440     2  62.000\n",
              "3        Lingadheeranahalli     3        1521     3  95.000\n",
              "4                  Kothanur     2        1200     2  51.000"
            ]
          },
          "metadata": {
            "tags": []
          },
          "execution_count": 33
        }
      ]
    },
    {
      "cell_type": "code",
      "metadata": {
        "id": "GRj62xGOCu_I",
        "colab": {
          "base_uri": "https://localhost:8080/"
        },
        "outputId": "2bfe2d8e-67af-4df5-ac7d-d23eecfd7cc5"
      },
      "source": [
        "df_1['size'].value_counts()"
      ],
      "execution_count": null,
      "outputs": [
        {
          "output_type": "execute_result",
          "data": {
            "text/plain": [
              "2     5471\n",
              "3     4639\n",
              "4     1234\n",
              "1      639\n",
              "5      295\n",
              "6      190\n",
              "7       85\n",
              "8       63\n",
              "9       30\n",
              "11       2\n",
              "10       2\n",
              "12       1\n",
              "Name: size, dtype: int64"
            ]
          },
          "metadata": {
            "tags": []
          },
          "execution_count": 34
        }
      ]
    },
    {
      "cell_type": "markdown",
      "metadata": {
        "id": "r4mA3YcvDthh"
      },
      "source": [
        "so we can delete size which are greater than 10."
      ]
    },
    {
      "cell_type": "code",
      "metadata": {
        "colab": {
          "base_uri": "https://localhost:8080/"
        },
        "id": "cVcLJu-jDyBd",
        "outputId": "72c6b8fe-23c7-4709-ce2d-06cb113eba70"
      },
      "source": [
        "df_1=df_1[df['size']<10]\n",
        "df_1['size'].value_counts()"
      ],
      "execution_count": null,
      "outputs": [
        {
          "output_type": "stream",
          "text": [
            "/usr/local/lib/python3.7/dist-packages/ipykernel_launcher.py:1: UserWarning: Boolean Series key will be reindexed to match DataFrame index.\n",
            "  \"\"\"Entry point for launching an IPython kernel.\n"
          ],
          "name": "stderr"
        },
        {
          "output_type": "execute_result",
          "data": {
            "text/plain": [
              "2    5471\n",
              "3    4639\n",
              "4    1234\n",
              "1     639\n",
              "5     295\n",
              "6     190\n",
              "7      85\n",
              "8      63\n",
              "9      30\n",
              "Name: size, dtype: int64"
            ]
          },
          "metadata": {
            "tags": []
          },
          "execution_count": 35
        }
      ]
    },
    {
      "cell_type": "code",
      "metadata": {
        "colab": {
          "base_uri": "https://localhost:8080/",
          "height": 173
        },
        "id": "AoOZyQ19EFs6",
        "outputId": "7edc9af8-46be-45c3-a644-b56c7d878b7e"
      },
      "source": [
        "df_1.corr()"
      ],
      "execution_count": null,
      "outputs": [
        {
          "output_type": "execute_result",
          "data": {
            "text/html": [
              "<div>\n",
              "<style scoped>\n",
              "    .dataframe tbody tr th:only-of-type {\n",
              "        vertical-align: middle;\n",
              "    }\n",
              "\n",
              "    .dataframe tbody tr th {\n",
              "        vertical-align: top;\n",
              "    }\n",
              "\n",
              "    .dataframe thead th {\n",
              "        text-align: right;\n",
              "    }\n",
              "</style>\n",
              "<table border=\"1\" class=\"dataframe\">\n",
              "  <thead>\n",
              "    <tr style=\"text-align: right;\">\n",
              "      <th></th>\n",
              "      <th>size</th>\n",
              "      <th>total_sqft</th>\n",
              "      <th>bath</th>\n",
              "      <th>price</th>\n",
              "    </tr>\n",
              "  </thead>\n",
              "  <tbody>\n",
              "    <tr>\n",
              "      <th>size</th>\n",
              "      <td>1.000</td>\n",
              "      <td>0.449</td>\n",
              "      <td>0.869</td>\n",
              "      <td>0.426</td>\n",
              "    </tr>\n",
              "    <tr>\n",
              "      <th>total_sqft</th>\n",
              "      <td>0.449</td>\n",
              "      <td>1.000</td>\n",
              "      <td>0.523</td>\n",
              "      <td>0.702</td>\n",
              "    </tr>\n",
              "    <tr>\n",
              "      <th>bath</th>\n",
              "      <td>0.869</td>\n",
              "      <td>0.523</td>\n",
              "      <td>1.000</td>\n",
              "      <td>0.483</td>\n",
              "    </tr>\n",
              "    <tr>\n",
              "      <th>price</th>\n",
              "      <td>0.426</td>\n",
              "      <td>0.702</td>\n",
              "      <td>0.483</td>\n",
              "      <td>1.000</td>\n",
              "    </tr>\n",
              "  </tbody>\n",
              "</table>\n",
              "</div>"
            ],
            "text/plain": [
              "            size  total_sqft  bath  price\n",
              "size       1.000       0.449 0.869  0.426\n",
              "total_sqft 0.449       1.000 0.523  0.702\n",
              "bath       0.869       0.523 1.000  0.483\n",
              "price      0.426       0.702 0.483  1.000"
            ]
          },
          "metadata": {
            "tags": []
          },
          "execution_count": 36
        }
      ]
    },
    {
      "cell_type": "code",
      "metadata": {
        "colab": {
          "base_uri": "https://localhost:8080/",
          "height": 419
        },
        "id": "QBXu5w6pEabe",
        "outputId": "46b173d0-fbb6-47bb-85c0-cc3f7698f3ab"
      },
      "source": [
        "#now we do feature engineering to add new feature price_per_sqft in lakh\n",
        "df_2=df_1.copy()\n",
        "df_2['price_per_sqft'] = df_1['price']*100000/df_1['total_sqft']\n",
        "df_2"
      ],
      "execution_count": null,
      "outputs": [
        {
          "output_type": "execute_result",
          "data": {
            "text/html": [
              "<div>\n",
              "<style scoped>\n",
              "    .dataframe tbody tr th:only-of-type {\n",
              "        vertical-align: middle;\n",
              "    }\n",
              "\n",
              "    .dataframe tbody tr th {\n",
              "        vertical-align: top;\n",
              "    }\n",
              "\n",
              "    .dataframe thead th {\n",
              "        text-align: right;\n",
              "    }\n",
              "</style>\n",
              "<table border=\"1\" class=\"dataframe\">\n",
              "  <thead>\n",
              "    <tr style=\"text-align: right;\">\n",
              "      <th></th>\n",
              "      <th>location</th>\n",
              "      <th>size</th>\n",
              "      <th>total_sqft</th>\n",
              "      <th>bath</th>\n",
              "      <th>price</th>\n",
              "      <th>price_per_sqft</th>\n",
              "    </tr>\n",
              "  </thead>\n",
              "  <tbody>\n",
              "    <tr>\n",
              "      <th>0</th>\n",
              "      <td>Electronic City Phase II</td>\n",
              "      <td>2</td>\n",
              "      <td>1056</td>\n",
              "      <td>2</td>\n",
              "      <td>39.070</td>\n",
              "      <td>3699.811</td>\n",
              "    </tr>\n",
              "    <tr>\n",
              "      <th>1</th>\n",
              "      <td>Chikka Tirupathi</td>\n",
              "      <td>4</td>\n",
              "      <td>2600</td>\n",
              "      <td>5</td>\n",
              "      <td>120.000</td>\n",
              "      <td>4615.385</td>\n",
              "    </tr>\n",
              "    <tr>\n",
              "      <th>2</th>\n",
              "      <td>Uttarahalli</td>\n",
              "      <td>3</td>\n",
              "      <td>1440</td>\n",
              "      <td>2</td>\n",
              "      <td>62.000</td>\n",
              "      <td>4305.556</td>\n",
              "    </tr>\n",
              "    <tr>\n",
              "      <th>3</th>\n",
              "      <td>Lingadheeranahalli</td>\n",
              "      <td>3</td>\n",
              "      <td>1521</td>\n",
              "      <td>3</td>\n",
              "      <td>95.000</td>\n",
              "      <td>6245.891</td>\n",
              "    </tr>\n",
              "    <tr>\n",
              "      <th>4</th>\n",
              "      <td>Kothanur</td>\n",
              "      <td>2</td>\n",
              "      <td>1200</td>\n",
              "      <td>2</td>\n",
              "      <td>51.000</td>\n",
              "      <td>4250.000</td>\n",
              "    </tr>\n",
              "    <tr>\n",
              "      <th>...</th>\n",
              "      <td>...</td>\n",
              "      <td>...</td>\n",
              "      <td>...</td>\n",
              "      <td>...</td>\n",
              "      <td>...</td>\n",
              "      <td>...</td>\n",
              "    </tr>\n",
              "    <tr>\n",
              "      <th>12663</th>\n",
              "      <td>Green Glen Layout</td>\n",
              "      <td>3</td>\n",
              "      <td>1715</td>\n",
              "      <td>3</td>\n",
              "      <td>112.000</td>\n",
              "      <td>6530.612</td>\n",
              "    </tr>\n",
              "    <tr>\n",
              "      <th>12664</th>\n",
              "      <td>Whitefield</td>\n",
              "      <td>5</td>\n",
              "      <td>3453</td>\n",
              "      <td>4</td>\n",
              "      <td>231.000</td>\n",
              "      <td>6689.835</td>\n",
              "    </tr>\n",
              "    <tr>\n",
              "      <th>12665</th>\n",
              "      <td>Raja Rajeshwari Nagar</td>\n",
              "      <td>2</td>\n",
              "      <td>1141</td>\n",
              "      <td>2</td>\n",
              "      <td>60.000</td>\n",
              "      <td>5258.545</td>\n",
              "    </tr>\n",
              "    <tr>\n",
              "      <th>12666</th>\n",
              "      <td>Padmanabhanagar</td>\n",
              "      <td>4</td>\n",
              "      <td>4689</td>\n",
              "      <td>4</td>\n",
              "      <td>488.000</td>\n",
              "      <td>10407.336</td>\n",
              "    </tr>\n",
              "    <tr>\n",
              "      <th>12667</th>\n",
              "      <td>Doddathoguru</td>\n",
              "      <td>1</td>\n",
              "      <td>550</td>\n",
              "      <td>1</td>\n",
              "      <td>17.000</td>\n",
              "      <td>3090.909</td>\n",
              "    </tr>\n",
              "  </tbody>\n",
              "</table>\n",
              "<p>12646 rows × 6 columns</p>\n",
              "</div>"
            ],
            "text/plain": [
              "                       location  size  total_sqft  bath   price  price_per_sqft\n",
              "0      Electronic City Phase II     2        1056     2  39.070        3699.811\n",
              "1              Chikka Tirupathi     4        2600     5 120.000        4615.385\n",
              "2                   Uttarahalli     3        1440     2  62.000        4305.556\n",
              "3            Lingadheeranahalli     3        1521     3  95.000        6245.891\n",
              "4                      Kothanur     2        1200     2  51.000        4250.000\n",
              "...                         ...   ...         ...   ...     ...             ...\n",
              "12663         Green Glen Layout     3        1715     3 112.000        6530.612\n",
              "12664                Whitefield     5        3453     4 231.000        6689.835\n",
              "12665     Raja Rajeshwari Nagar     2        1141     2  60.000        5258.545\n",
              "12666           Padmanabhanagar     4        4689     4 488.000       10407.336\n",
              "12667              Doddathoguru     1         550     1  17.000        3090.909\n",
              "\n",
              "[12646 rows x 6 columns]"
            ]
          },
          "metadata": {
            "tags": []
          },
          "execution_count": 37
        }
      ]
    },
    {
      "cell_type": "code",
      "metadata": {
        "colab": {
          "base_uri": "https://localhost:8080/"
        },
        "id": "ya3ftYwIE1Ru",
        "outputId": "5d71a8f3-b6d6-45f6-86bb-7b006f2fdf93"
      },
      "source": [
        "df_2['location'].value_counts()"
      ],
      "execution_count": null,
      "outputs": [
        {
          "output_type": "execute_result",
          "data": {
            "text/plain": [
              "Others                  2625\n",
              "Whitefield               513\n",
              "Sarjapur  Road           372\n",
              "Electronic City          300\n",
              "Kanakpura Road           259\n",
              "                        ... \n",
              "Nagappa Reddy Layout      10\n",
              "Kalkere                   10\n",
              "Doddaballapur             10\n",
              "HAL 2nd Stage             10\n",
              "Naganathapura             10\n",
              "Name: location, Length: 248, dtype: int64"
            ]
          },
          "metadata": {
            "tags": []
          },
          "execution_count": 38
        }
      ]
    },
    {
      "cell_type": "code",
      "metadata": {
        "colab": {
          "base_uri": "https://localhost:8080/"
        },
        "id": "oL0mjtdrG2d3",
        "outputId": "4b3f2b5a-4c57-4c91-e806-25ff7ddf5323"
      },
      "source": [
        "#total number of different type of location.\n",
        "len(df_2.location.unique())"
      ],
      "execution_count": null,
      "outputs": [
        {
          "output_type": "execute_result",
          "data": {
            "text/plain": [
              "248"
            ]
          },
          "metadata": {
            "tags": []
          },
          "execution_count": 39
        }
      ]
    },
    {
      "cell_type": "code",
      "metadata": {
        "colab": {
          "base_uri": "https://localhost:8080/",
          "height": 287
        },
        "id": "lzqvjO7YHIh2",
        "outputId": "dcabdfb8-e865-460d-cca3-b28cd80309f0"
      },
      "source": [
        "sns.heatmap(df_2.corr(), annot = True)"
      ],
      "execution_count": null,
      "outputs": [
        {
          "output_type": "execute_result",
          "data": {
            "text/plain": [
              "<matplotlib.axes._subplots.AxesSubplot at 0x7f1b978c9c10>"
            ]
          },
          "metadata": {
            "tags": []
          },
          "execution_count": 40
        },
        {
          "output_type": "display_data",
          "data": {
            "image/png": "[encoded data removed]",
            "text/plain": [
              "<Figure size 432x288 with 2 Axes>"
            ]
          },
          "metadata": {
            "tags": [],
            "needs_background": "light"
          }
        }
      ]
    },
    {
      "cell_type": "code",
      "metadata": {
        "colab": {
          "base_uri": "https://localhost:8080/",
          "height": 359
        },
        "id": "d5lZw1dAJrNP",
        "outputId": "4ba931cd-841c-4433-9d73-ba86aea29687"
      },
      "source": [
        "df_2.head(10)"
      ],
      "execution_count": null,
      "outputs": [
        {
          "output_type": "execute_result",
          "data": {
            "text/html": [
              "<div>\n",
              "<style scoped>\n",
              "    .dataframe tbody tr th:only-of-type {\n",
              "        vertical-align: middle;\n",
              "    }\n",
              "\n",
              "    .dataframe tbody tr th {\n",
              "        vertical-align: top;\n",
              "    }\n",
              "\n",
              "    .dataframe thead th {\n",
              "        text-align: right;\n",
              "    }\n",
              "</style>\n",
              "<table border=\"1\" class=\"dataframe\">\n",
              "  <thead>\n",
              "    <tr style=\"text-align: right;\">\n",
              "      <th></th>\n",
              "      <th>location</th>\n",
              "      <th>size</th>\n",
              "      <th>total_sqft</th>\n",
              "      <th>bath</th>\n",
              "      <th>price</th>\n",
              "      <th>price_per_sqft</th>\n",
              "    </tr>\n",
              "  </thead>\n",
              "  <tbody>\n",
              "    <tr>\n",
              "      <th>0</th>\n",
              "      <td>Electronic City Phase II</td>\n",
              "      <td>2</td>\n",
              "      <td>1056</td>\n",
              "      <td>2</td>\n",
              "      <td>39.070</td>\n",
              "      <td>3699.811</td>\n",
              "    </tr>\n",
              "    <tr>\n",
              "      <th>1</th>\n",
              "      <td>Chikka Tirupathi</td>\n",
              "      <td>4</td>\n",
              "      <td>2600</td>\n",
              "      <td>5</td>\n",
              "      <td>120.000</td>\n",
              "      <td>4615.385</td>\n",
              "    </tr>\n",
              "    <tr>\n",
              "      <th>2</th>\n",
              "      <td>Uttarahalli</td>\n",
              "      <td>3</td>\n",
              "      <td>1440</td>\n",
              "      <td>2</td>\n",
              "      <td>62.000</td>\n",
              "      <td>4305.556</td>\n",
              "    </tr>\n",
              "    <tr>\n",
              "      <th>3</th>\n",
              "      <td>Lingadheeranahalli</td>\n",
              "      <td>3</td>\n",
              "      <td>1521</td>\n",
              "      <td>3</td>\n",
              "      <td>95.000</td>\n",
              "      <td>6245.891</td>\n",
              "    </tr>\n",
              "    <tr>\n",
              "      <th>4</th>\n",
              "      <td>Kothanur</td>\n",
              "      <td>2</td>\n",
              "      <td>1200</td>\n",
              "      <td>2</td>\n",
              "      <td>51.000</td>\n",
              "      <td>4250.000</td>\n",
              "    </tr>\n",
              "    <tr>\n",
              "      <th>5</th>\n",
              "      <td>Whitefield</td>\n",
              "      <td>2</td>\n",
              "      <td>1170</td>\n",
              "      <td>2</td>\n",
              "      <td>38.000</td>\n",
              "      <td>3247.863</td>\n",
              "    </tr>\n",
              "    <tr>\n",
              "      <th>6</th>\n",
              "      <td>Marathahalli</td>\n",
              "      <td>3</td>\n",
              "      <td>1310</td>\n",
              "      <td>3</td>\n",
              "      <td>63.250</td>\n",
              "      <td>4828.244</td>\n",
              "    </tr>\n",
              "    <tr>\n",
              "      <th>7</th>\n",
              "      <td>Whitefield</td>\n",
              "      <td>3</td>\n",
              "      <td>1800</td>\n",
              "      <td>2</td>\n",
              "      <td>70.000</td>\n",
              "      <td>3888.889</td>\n",
              "    </tr>\n",
              "    <tr>\n",
              "      <th>8</th>\n",
              "      <td>Whitefield</td>\n",
              "      <td>4</td>\n",
              "      <td>2785</td>\n",
              "      <td>5</td>\n",
              "      <td>295.000</td>\n",
              "      <td>10592.460</td>\n",
              "    </tr>\n",
              "    <tr>\n",
              "      <th>9</th>\n",
              "      <td>7th Phase JP Nagar</td>\n",
              "      <td>2</td>\n",
              "      <td>1000</td>\n",
              "      <td>2</td>\n",
              "      <td>38.000</td>\n",
              "      <td>3800.000</td>\n",
              "    </tr>\n",
              "  </tbody>\n",
              "</table>\n",
              "</div>"
            ],
            "text/plain": [
              "                   location  size  total_sqft  bath   price  price_per_sqft\n",
              "0  Electronic City Phase II     2        1056     2  39.070        3699.811\n",
              "1          Chikka Tirupathi     4        2600     5 120.000        4615.385\n",
              "2               Uttarahalli     3        1440     2  62.000        4305.556\n",
              "3        Lingadheeranahalli     3        1521     3  95.000        6245.891\n",
              "4                  Kothanur     2        1200     2  51.000        4250.000\n",
              "5                Whitefield     2        1170     2  38.000        3247.863\n",
              "6              Marathahalli     3        1310     3  63.250        4828.244\n",
              "7                Whitefield     3        1800     2  70.000        3888.889\n",
              "8                Whitefield     4        2785     5 295.000       10592.460\n",
              "9        7th Phase JP Nagar     2        1000     2  38.000        3800.000"
            ]
          },
          "metadata": {
            "tags": []
          },
          "execution_count": 41
        }
      ]
    },
    {
      "cell_type": "code",
      "metadata": {
        "colab": {
          "base_uri": "https://localhost:8080/",
          "height": 204
        },
        "id": "pHbF7a8Ym1ml",
        "outputId": "4ba82da8-5dd2-450a-c860-340f483d482b"
      },
      "source": [
        "#rescaling data so that all data have same scale\n",
        "from sklearn.preprocessing import MinMaxScaler\n",
        "df_3 = df_2.copy()\n",
        "df_3=df_3.drop('location', axis=1)\n",
        "array = df_3.values\n",
        "x=array\n",
        "scaler = MinMaxScaler(feature_range=(0, 1))\n",
        "rescaledX = scaler.fit_transform(x)\n",
        "np.set_printoptions(precision=3)\n",
        "X=pd.DataFrame(rescaledX)\n",
        "X.columns=df_3.columns\n",
        "X.head()"
      ],
      "execution_count": null,
      "outputs": [
        {
          "output_type": "execute_result",
          "data": {
            "text/html": [
              "<div>\n",
              "<style scoped>\n",
              "    .dataframe tbody tr th:only-of-type {\n",
              "        vertical-align: middle;\n",
              "    }\n",
              "\n",
              "    .dataframe tbody tr th {\n",
              "        vertical-align: top;\n",
              "    }\n",
              "\n",
              "    .dataframe thead th {\n",
              "        text-align: right;\n",
              "    }\n",
              "</style>\n",
              "<table border=\"1\" class=\"dataframe\">\n",
              "  <thead>\n",
              "    <tr style=\"text-align: right;\">\n",
              "      <th></th>\n",
              "      <th>size</th>\n",
              "      <th>total_sqft</th>\n",
              "      <th>bath</th>\n",
              "      <th>price</th>\n",
              "      <th>price_per_sqft</th>\n",
              "    </tr>\n",
              "  </thead>\n",
              "  <tbody>\n",
              "    <tr>\n",
              "      <th>0</th>\n",
              "      <td>0.125</td>\n",
              "      <td>0.040</td>\n",
              "      <td>0.125</td>\n",
              "      <td>0.011</td>\n",
              "      <td>0.001</td>\n",
              "    </tr>\n",
              "    <tr>\n",
              "      <th>1</th>\n",
              "      <td>0.375</td>\n",
              "      <td>0.099</td>\n",
              "      <td>0.500</td>\n",
              "      <td>0.039</td>\n",
              "      <td>0.002</td>\n",
              "    </tr>\n",
              "    <tr>\n",
              "      <th>2</th>\n",
              "      <td>0.250</td>\n",
              "      <td>0.055</td>\n",
              "      <td>0.125</td>\n",
              "      <td>0.019</td>\n",
              "      <td>0.002</td>\n",
              "    </tr>\n",
              "    <tr>\n",
              "      <th>3</th>\n",
              "      <td>0.250</td>\n",
              "      <td>0.058</td>\n",
              "      <td>0.250</td>\n",
              "      <td>0.030</td>\n",
              "      <td>0.002</td>\n",
              "    </tr>\n",
              "    <tr>\n",
              "      <th>4</th>\n",
              "      <td>0.125</td>\n",
              "      <td>0.046</td>\n",
              "      <td>0.125</td>\n",
              "      <td>0.015</td>\n",
              "      <td>0.002</td>\n",
              "    </tr>\n",
              "  </tbody>\n",
              "</table>\n",
              "</div>"
            ],
            "text/plain": [
              "   size  total_sqft  bath  price  price_per_sqft\n",
              "0 0.125       0.040 0.125  0.011           0.001\n",
              "1 0.375       0.099 0.500  0.039           0.002\n",
              "2 0.250       0.055 0.125  0.019           0.002\n",
              "3 0.250       0.058 0.250  0.030           0.002\n",
              "4 0.125       0.046 0.125  0.015           0.002"
            ]
          },
          "metadata": {
            "tags": []
          },
          "execution_count": 43
        }
      ]
    },
    {
      "cell_type": "code",
      "metadata": {
        "colab": {
          "base_uri": "https://localhost:8080/",
          "height": 204
        },
        "id": "I5hoN7o0nOAG",
        "outputId": "b9072253-0195-4afc-97b1-fb3fcd625df9"
      },
      "source": [
        "X.corr()"
      ],
      "execution_count": null,
      "outputs": [
        {
          "output_type": "execute_result",
          "data": {
            "text/html": [
              "<div>\n",
              "<style scoped>\n",
              "    .dataframe tbody tr th:only-of-type {\n",
              "        vertical-align: middle;\n",
              "    }\n",
              "\n",
              "    .dataframe tbody tr th {\n",
              "        vertical-align: top;\n",
              "    }\n",
              "\n",
              "    .dataframe thead th {\n",
              "        text-align: right;\n",
              "    }\n",
              "</style>\n",
              "<table border=\"1\" class=\"dataframe\">\n",
              "  <thead>\n",
              "    <tr style=\"text-align: right;\">\n",
              "      <th></th>\n",
              "      <th>size</th>\n",
              "      <th>total_sqft</th>\n",
              "      <th>bath</th>\n",
              "      <th>price</th>\n",
              "      <th>price_per_sqft</th>\n",
              "    </tr>\n",
              "  </thead>\n",
              "  <tbody>\n",
              "    <tr>\n",
              "      <th>size</th>\n",
              "      <td>1.000</td>\n",
              "      <td>0.449</td>\n",
              "      <td>0.869</td>\n",
              "      <td>0.426</td>\n",
              "      <td>0.113</td>\n",
              "    </tr>\n",
              "    <tr>\n",
              "      <th>total_sqft</th>\n",
              "      <td>0.449</td>\n",
              "      <td>1.000</td>\n",
              "      <td>0.523</td>\n",
              "      <td>0.702</td>\n",
              "      <td>0.014</td>\n",
              "    </tr>\n",
              "    <tr>\n",
              "      <th>bath</th>\n",
              "      <td>0.869</td>\n",
              "      <td>0.523</td>\n",
              "      <td>1.000</td>\n",
              "      <td>0.483</td>\n",
              "      <td>0.108</td>\n",
              "    </tr>\n",
              "    <tr>\n",
              "      <th>price</th>\n",
              "      <td>0.426</td>\n",
              "      <td>0.702</td>\n",
              "      <td>0.483</td>\n",
              "      <td>1.000</td>\n",
              "      <td>0.127</td>\n",
              "    </tr>\n",
              "    <tr>\n",
              "      <th>price_per_sqft</th>\n",
              "      <td>0.113</td>\n",
              "      <td>0.014</td>\n",
              "      <td>0.108</td>\n",
              "      <td>0.127</td>\n",
              "      <td>1.000</td>\n",
              "    </tr>\n",
              "  </tbody>\n",
              "</table>\n",
              "</div>"
            ],
            "text/plain": [
              "                size  total_sqft  bath  price  price_per_sqft\n",
              "size           1.000       0.449 0.869  0.426           0.113\n",
              "total_sqft     0.449       1.000 0.523  0.702           0.014\n",
              "bath           0.869       0.523 1.000  0.483           0.108\n",
              "price          0.426       0.702 0.483  1.000           0.127\n",
              "price_per_sqft 0.113       0.014 0.108  0.127           1.000"
            ]
          },
          "metadata": {
            "tags": []
          },
          "execution_count": 44
        }
      ]
    },
    {
      "cell_type": "code",
      "metadata": {
        "colab": {
          "base_uri": "https://localhost:8080/",
          "height": 111
        },
        "id": "_7J5J8f0Jxi4",
        "outputId": "15917a02-86c3-4ae4-e589-7396850b7736"
      },
      "source": [
        "\n",
        "df_temp = X[['price_per_sqft', 'price']]\n",
        "df_temp.corr()"
      ],
      "execution_count": null,
      "outputs": [
        {
          "output_type": "execute_result",
          "data": {
            "text/html": [
              "<div>\n",
              "<style scoped>\n",
              "    .dataframe tbody tr th:only-of-type {\n",
              "        vertical-align: middle;\n",
              "    }\n",
              "\n",
              "    .dataframe tbody tr th {\n",
              "        vertical-align: top;\n",
              "    }\n",
              "\n",
              "    .dataframe thead th {\n",
              "        text-align: right;\n",
              "    }\n",
              "</style>\n",
              "<table border=\"1\" class=\"dataframe\">\n",
              "  <thead>\n",
              "    <tr style=\"text-align: right;\">\n",
              "      <th></th>\n",
              "      <th>price_per_sqft</th>\n",
              "      <th>price</th>\n",
              "    </tr>\n",
              "  </thead>\n",
              "  <tbody>\n",
              "    <tr>\n",
              "      <th>price_per_sqft</th>\n",
              "      <td>1.000</td>\n",
              "      <td>0.127</td>\n",
              "    </tr>\n",
              "    <tr>\n",
              "      <th>price</th>\n",
              "      <td>0.127</td>\n",
              "      <td>1.000</td>\n",
              "    </tr>\n",
              "  </tbody>\n",
              "</table>\n",
              "</div>"
            ],
            "text/plain": [
              "                price_per_sqft  price\n",
              "price_per_sqft           1.000  0.127\n",
              "price                    0.127  1.000"
            ]
          },
          "metadata": {
            "tags": []
          },
          "execution_count": 45
        }
      ]
    },
    {
      "cell_type": "code",
      "metadata": {
        "colab": {
          "base_uri": "https://localhost:8080/",
          "height": 385
        },
        "id": "nIJoRqS1VaBv",
        "outputId": "f7737480-2d63-4a0c-d4ba-0d2a7c074ca5"
      },
      "source": [
        "sns.boxplot('total_sqft', data = X, orient = 'vertical')"
      ],
      "execution_count": null,
      "outputs": [
        {
          "output_type": "stream",
          "text": [
            "/usr/local/lib/python3.7/dist-packages/seaborn/_decorators.py:43: FutureWarning: Pass the following variable as a keyword arg: x. From version 0.12, the only valid positional argument will be `data`, and passing other arguments without an explicit keyword will result in an error or misinterpretation.\n",
            "  FutureWarning\n",
            "/usr/local/lib/python3.7/dist-packages/seaborn/_core.py:1319: UserWarning: Vertical orientation ignored with only `x` specified.\n",
            "  warnings.warn(single_var_warning.format(\"Vertical\", \"x\"))\n"
          ],
          "name": "stderr"
        },
        {
          "output_type": "execute_result",
          "data": {
            "text/plain": [
              "<matplotlib.axes._subplots.AxesSubplot at 0x7f1b8b4ab910>"
            ]
          },
          "metadata": {
            "tags": []
          },
          "execution_count": 46
        },
        {
          "output_type": "display_data",
          "data": {
            "image/png": "[encoded data removed]",
            "text/plain": [
              "<Figure size 432x288 with 1 Axes>"
            ]
          },
          "metadata": {
            "tags": [],
            "needs_background": "light"
          }
        }
      ]
    },
    {
      "cell_type": "code",
      "metadata": {
        "colab": {
          "base_uri": "https://localhost:8080/",
          "height": 384
        },
        "id": "9v2UApXnVu5b",
        "outputId": "5a2863d3-538c-4800-96c6-bfae68d61ca7"
      },
      "source": [
        "sns.boxplot('size', data = X, orient = 'vertical')"
      ],
      "execution_count": null,
      "outputs": [
        {
          "output_type": "stream",
          "text": [
            "/usr/local/lib/python3.7/dist-packages/seaborn/_decorators.py:43: FutureWarning: Pass the following variable as a keyword arg: x. From version 0.12, the only valid positional argument will be `data`, and passing other arguments without an explicit keyword will result in an error or misinterpretation.\n",
            "  FutureWarning\n",
            "/usr/local/lib/python3.7/dist-packages/seaborn/_core.py:1319: UserWarning: Vertical orientation ignored with only `x` specified.\n",
            "  warnings.warn(single_var_warning.format(\"Vertical\", \"x\"))\n"
          ],
          "name": "stderr"
        },
        {
          "output_type": "execute_result",
          "data": {
            "text/plain": [
              "<matplotlib.axes._subplots.AxesSubplot at 0x7f1b8a1e5e10>"
            ]
          },
          "metadata": {
            "tags": []
          },
          "execution_count": 47
        },
        {
          "output_type": "display_data",
          "data": {
            "image/png": "[encoded data removed]",
            "text/plain": [
              "<Figure size 432x288 with 1 Axes>"
            ]
          },
          "metadata": {
            "tags": [],
            "needs_background": "light"
          }
        }
      ]
    },
    {
      "cell_type": "code",
      "metadata": {
        "colab": {
          "base_uri": "https://localhost:8080/",
          "height": 384
        },
        "id": "oOiqLWFeV26C",
        "outputId": "31f9afb5-e1b6-484b-bf32-7ffb3d83974a"
      },
      "source": [
        "sns.boxplot('bath', data = X, orient = 'vertical')"
      ],
      "execution_count": null,
      "outputs": [
        {
          "output_type": "stream",
          "text": [
            "/usr/local/lib/python3.7/dist-packages/seaborn/_decorators.py:43: FutureWarning: Pass the following variable as a keyword arg: x. From version 0.12, the only valid positional argument will be `data`, and passing other arguments without an explicit keyword will result in an error or misinterpretation.\n",
            "  FutureWarning\n",
            "/usr/local/lib/python3.7/dist-packages/seaborn/_core.py:1319: UserWarning: Vertical orientation ignored with only `x` specified.\n",
            "  warnings.warn(single_var_warning.format(\"Vertical\", \"x\"))\n"
          ],
          "name": "stderr"
        },
        {
          "output_type": "execute_result",
          "data": {
            "text/plain": [
              "<matplotlib.axes._subplots.AxesSubplot at 0x7f1b8a144790>"
            ]
          },
          "metadata": {
            "tags": []
          },
          "execution_count": 48
        },
        {
          "output_type": "display_data",
          "data": {
            "image/png": "[encoded data removed]",
            "text/plain": [
              "<Figure size 432x288 with 1 Axes>"
            ]
          },
          "metadata": {
            "tags": [],
            "needs_background": "light"
          }
        }
      ]
    },
    {
      "cell_type": "code",
      "metadata": {
        "colab": {
          "base_uri": "https://localhost:8080/",
          "height": 385
        },
        "id": "tlrNTCBhV5S4",
        "outputId": "13f9883d-85a8-4890-ec1b-757fd6cd383c"
      },
      "source": [
        "sns.boxplot('price_per_sqft', data = X, orient = 'vertical')"
      ],
      "execution_count": null,
      "outputs": [
        {
          "output_type": "stream",
          "text": [
            "/usr/local/lib/python3.7/dist-packages/seaborn/_decorators.py:43: FutureWarning: Pass the following variable as a keyword arg: x. From version 0.12, the only valid positional argument will be `data`, and passing other arguments without an explicit keyword will result in an error or misinterpretation.\n",
            "  FutureWarning\n",
            "/usr/local/lib/python3.7/dist-packages/seaborn/_core.py:1319: UserWarning: Vertical orientation ignored with only `x` specified.\n",
            "  warnings.warn(single_var_warning.format(\"Vertical\", \"x\"))\n"
          ],
          "name": "stderr"
        },
        {
          "output_type": "execute_result",
          "data": {
            "text/plain": [
              "<matplotlib.axes._subplots.AxesSubplot at 0x7f1b8a0c0e10>"
            ]
          },
          "metadata": {
            "tags": []
          },
          "execution_count": 49
        },
        {
          "output_type": "display_data",
          "data": {
            "image/png": "[encoded data removed]",
            "text/plain": [
              "<Figure size 432x288 with 1 Axes>"
            ]
          },
          "metadata": {
            "tags": [],
            "needs_background": "light"
          }
        }
      ]
    },
    {
      "cell_type": "code",
      "metadata": {
        "colab": {
          "base_uri": "https://localhost:8080/",
          "height": 384
        },
        "id": "FTU0vQ29WRwb",
        "outputId": "86a97ce7-b8b6-480b-cea0-17abd9bc3e9e"
      },
      "source": [
        "sns.boxplot('price', data = X, orient = 'vertical')"
      ],
      "execution_count": null,
      "outputs": [
        {
          "output_type": "stream",
          "text": [
            "/usr/local/lib/python3.7/dist-packages/seaborn/_decorators.py:43: FutureWarning: Pass the following variable as a keyword arg: x. From version 0.12, the only valid positional argument will be `data`, and passing other arguments without an explicit keyword will result in an error or misinterpretation.\n",
            "  FutureWarning\n",
            "/usr/local/lib/python3.7/dist-packages/seaborn/_core.py:1319: UserWarning: Vertical orientation ignored with only `x` specified.\n",
            "  warnings.warn(single_var_warning.format(\"Vertical\", \"x\"))\n"
          ],
          "name": "stderr"
        },
        {
          "output_type": "execute_result",
          "data": {
            "text/plain": [
              "<matplotlib.axes._subplots.AxesSubplot at 0x7f1b8a073fd0>"
            ]
          },
          "metadata": {
            "tags": []
          },
          "execution_count": 50
        },
        {
          "output_type": "display_data",
          "data": {
            "image/png": "[encoded data removed]",
            "text/plain": [
              "<Figure size 432x288 with 1 Axes>"
            ]
          },
          "metadata": {
            "tags": [],
            "needs_background": "light"
          }
        }
      ]
    },
    {
      "cell_type": "code",
      "metadata": {
        "colab": {
          "base_uri": "https://localhost:8080/"
        },
        "id": "0k1Vpk8tWaiA",
        "outputId": "165f648f-a8da-422e-bb0a-f4a2830f8ea0"
      },
      "source": [
        "max_threshold = X[[\"bath\",\"size\",\"total_sqft\", \"price\", \"price_per_sqft\"]].quantile(0.95)\n",
        "max_threshold"
      ],
      "execution_count": null,
      "outputs": [
        {
          "output_type": "execute_result",
          "data": {
            "text/plain": [
              "bath             0.500\n",
              "size             0.500\n",
              "total_sqft       0.115\n",
              "price            0.101\n",
              "price_per_sqft   0.006\n",
              "Name: 0.95, dtype: float64"
            ]
          },
          "metadata": {
            "tags": []
          },
          "execution_count": 51
        }
      ]
    },
    {
      "cell_type": "code",
      "metadata": {
        "id": "JrU-wA-nbXi_"
      },
      "source": [
        "X = X.drop(X[X['bath'] > .500].index)\n",
        "X = X.drop(X[X['size'] > .500].index)\n",
        "X = X.drop(X[X['total_sqft'] > .115].index)\n",
        "X = X.drop(X[X['price'] > 0.101].index)\n",
        "X = X.drop(X[X['price_per_sqft'] > .006].index)"
      ],
      "execution_count": null,
      "outputs": []
    },
    {
      "cell_type": "code",
      "metadata": {
        "colab": {
          "base_uri": "https://localhost:8080/",
          "height": 204
        },
        "id": "q1S17o6mbxZ6",
        "outputId": "565faa54-594a-47e5-bc83-f45b93e8e3c7"
      },
      "source": [
        "X.corr()"
      ],
      "execution_count": null,
      "outputs": [
        {
          "output_type": "execute_result",
          "data": {
            "text/html": [
              "<div>\n",
              "<style scoped>\n",
              "    .dataframe tbody tr th:only-of-type {\n",
              "        vertical-align: middle;\n",
              "    }\n",
              "\n",
              "    .dataframe tbody tr th {\n",
              "        vertical-align: top;\n",
              "    }\n",
              "\n",
              "    .dataframe thead th {\n",
              "        text-align: right;\n",
              "    }\n",
              "</style>\n",
              "<table border=\"1\" class=\"dataframe\">\n",
              "  <thead>\n",
              "    <tr style=\"text-align: right;\">\n",
              "      <th></th>\n",
              "      <th>size</th>\n",
              "      <th>total_sqft</th>\n",
              "      <th>bath</th>\n",
              "      <th>price</th>\n",
              "      <th>price_per_sqft</th>\n",
              "    </tr>\n",
              "  </thead>\n",
              "  <tbody>\n",
              "    <tr>\n",
              "      <th>size</th>\n",
              "      <td>1.000</td>\n",
              "      <td>0.646</td>\n",
              "      <td>0.811</td>\n",
              "      <td>0.553</td>\n",
              "      <td>0.315</td>\n",
              "    </tr>\n",
              "    <tr>\n",
              "      <th>total_sqft</th>\n",
              "      <td>0.646</td>\n",
              "      <td>1.000</td>\n",
              "      <td>0.684</td>\n",
              "      <td>0.762</td>\n",
              "      <td>0.221</td>\n",
              "    </tr>\n",
              "    <tr>\n",
              "      <th>bath</th>\n",
              "      <td>0.811</td>\n",
              "      <td>0.684</td>\n",
              "      <td>1.000</td>\n",
              "      <td>0.620</td>\n",
              "      <td>0.356</td>\n",
              "    </tr>\n",
              "    <tr>\n",
              "      <th>price</th>\n",
              "      <td>0.553</td>\n",
              "      <td>0.762</td>\n",
              "      <td>0.620</td>\n",
              "      <td>1.000</td>\n",
              "      <td>0.757</td>\n",
              "    </tr>\n",
              "    <tr>\n",
              "      <th>price_per_sqft</th>\n",
              "      <td>0.315</td>\n",
              "      <td>0.221</td>\n",
              "      <td>0.356</td>\n",
              "      <td>0.757</td>\n",
              "      <td>1.000</td>\n",
              "    </tr>\n",
              "  </tbody>\n",
              "</table>\n",
              "</div>"
            ],
            "text/plain": [
              "                size  total_sqft  bath  price  price_per_sqft\n",
              "size           1.000       0.646 0.811  0.553           0.315\n",
              "total_sqft     0.646       1.000 0.684  0.762           0.221\n",
              "bath           0.811       0.684 1.000  0.620           0.356\n",
              "price          0.553       0.762 0.620  1.000           0.757\n",
              "price_per_sqft 0.315       0.221 0.356  0.757           1.000"
            ]
          },
          "metadata": {
            "tags": []
          },
          "execution_count": 53
        }
      ]
    },
    {
      "cell_type": "markdown",
      "metadata": {
        "id": "pEiA05n4b6j7"
      },
      "source": [
        "now we can see that it is quite correlated and hence helpful in doing prediction. total_sqft and price_per_sqft is quite well correlated to predict price, we may work little more on size and bath"
      ]
    },
    {
      "cell_type": "code",
      "metadata": {
        "colab": {
          "base_uri": "https://localhost:8080/",
          "height": 287
        },
        "id": "4SfAgyCCvob3",
        "outputId": "f5bda6dc-a242-430e-c339-db35738a4286"
      },
      "source": [
        "sns.heatmap(X.corr(), annot = True)"
      ],
      "execution_count": null,
      "outputs": [
        {
          "output_type": "execute_result",
          "data": {
            "text/plain": [
              "<matplotlib.axes._subplots.AxesSubplot at 0x7f1b8e5c55d0>"
            ]
          },
          "metadata": {
            "tags": []
          },
          "execution_count": 55
        },
        {
          "output_type": "display_data",
          "data": {
            "image/png": "[encoded data removed]",
            "text/plain": [
              "<Figure size 432x288 with 2 Axes>"
            ]
          },
          "metadata": {
            "tags": [],
            "needs_background": "light"
          }
        }
      ]
    },
    {
      "cell_type": "code",
      "metadata": {
        "colab": {
          "base_uri": "https://localhost:8080/",
          "height": 623
        },
        "id": "nkjGhYPU5Nb8",
        "outputId": "e99347fb-fe60-4d59-ba17-21dbb4da6ef0"
      },
      "source": [
        "plt.hist(X.bath, color = \"black\")\n",
        "plt.xlabel(\"Number of bathrooms\")\n",
        "plt.ylabel(\"Count\")"
      ],
      "execution_count": null,
      "outputs": [
        {
          "output_type": "execute_result",
          "data": {
            "text/plain": [
              "Text(0, 0.5, 'Count')"
            ]
          },
          "metadata": {
            "tags": []
          },
          "execution_count": 73
        },
        {
          "output_type": "display_data",
          "data": {
            "image/png": "[encoded data removed]",
            "text/plain": [
              "<Figure size 1080x720 with 1 Axes>"
            ]
          },
          "metadata": {
            "tags": [],
            "needs_background": "light"
          }
        }
      ]
    },
    {
      "cell_type": "code",
      "metadata": {
        "colab": {
          "base_uri": "https://localhost:8080/",
          "height": 623
        },
        "id": "lBwlhvJr5pXG",
        "outputId": "a64db719-ec97-438d-f499-4e3d4227fde6"
      },
      "source": [
        "plt.hist(X.price_per_sqft, color = \"black\")\n",
        "plt.xlabel(\"Price per square feet\")\n",
        "plt.ylabel(\"Count\")"
      ],
      "execution_count": null,
      "outputs": [
        {
          "output_type": "execute_result",
          "data": {
            "text/plain": [
              "Text(0, 0.5, 'Count')"
            ]
          },
          "metadata": {
            "tags": []
          },
          "execution_count": 75
        },
        {
          "output_type": "display_data",
          "data": {
            "image/png": "[encoded data removed]",
            "text/plain": [
              "<Figure size 1080x720 with 1 Axes>"
            ]
          },
          "metadata": {
            "tags": [],
            "needs_background": "light"
          }
        }
      ]
    },
    {
      "cell_type": "code",
      "metadata": {
        "colab": {
          "base_uri": "https://localhost:8080/",
          "height": 204
        },
        "id": "cYzE-2_i5z8p",
        "outputId": "136784b5-b77f-4a90-8184-733f964af943"
      },
      "source": [
        "X.head()"
      ],
      "execution_count": null,
      "outputs": [
        {
          "output_type": "execute_result",
          "data": {
            "text/html": [
              "<div>\n",
              "<style scoped>\n",
              "    .dataframe tbody tr th:only-of-type {\n",
              "        vertical-align: middle;\n",
              "    }\n",
              "\n",
              "    .dataframe tbody tr th {\n",
              "        vertical-align: top;\n",
              "    }\n",
              "\n",
              "    .dataframe thead th {\n",
              "        text-align: right;\n",
              "    }\n",
              "</style>\n",
              "<table border=\"1\" class=\"dataframe\">\n",
              "  <thead>\n",
              "    <tr style=\"text-align: right;\">\n",
              "      <th></th>\n",
              "      <th>size</th>\n",
              "      <th>total_sqft</th>\n",
              "      <th>bath</th>\n",
              "      <th>price</th>\n",
              "      <th>price_per_sqft</th>\n",
              "    </tr>\n",
              "  </thead>\n",
              "  <tbody>\n",
              "    <tr>\n",
              "      <th>0</th>\n",
              "      <td>0.125</td>\n",
              "      <td>0.040</td>\n",
              "      <td>0.125</td>\n",
              "      <td>0.011</td>\n",
              "      <td>0.001</td>\n",
              "    </tr>\n",
              "    <tr>\n",
              "      <th>1</th>\n",
              "      <td>0.375</td>\n",
              "      <td>0.099</td>\n",
              "      <td>0.500</td>\n",
              "      <td>0.039</td>\n",
              "      <td>0.002</td>\n",
              "    </tr>\n",
              "    <tr>\n",
              "      <th>2</th>\n",
              "      <td>0.250</td>\n",
              "      <td>0.055</td>\n",
              "      <td>0.125</td>\n",
              "      <td>0.019</td>\n",
              "      <td>0.002</td>\n",
              "    </tr>\n",
              "    <tr>\n",
              "      <th>3</th>\n",
              "      <td>0.250</td>\n",
              "      <td>0.058</td>\n",
              "      <td>0.250</td>\n",
              "      <td>0.030</td>\n",
              "      <td>0.002</td>\n",
              "    </tr>\n",
              "    <tr>\n",
              "      <th>4</th>\n",
              "      <td>0.125</td>\n",
              "      <td>0.046</td>\n",
              "      <td>0.125</td>\n",
              "      <td>0.015</td>\n",
              "      <td>0.002</td>\n",
              "    </tr>\n",
              "  </tbody>\n",
              "</table>\n",
              "</div>"
            ],
            "text/plain": [
              "   size  total_sqft  bath  price  price_per_sqft\n",
              "0 0.125       0.040 0.125  0.011           0.001\n",
              "1 0.375       0.099 0.500  0.039           0.002\n",
              "2 0.250       0.055 0.125  0.019           0.002\n",
              "3 0.250       0.058 0.250  0.030           0.002\n",
              "4 0.125       0.046 0.125  0.015           0.002"
            ]
          },
          "metadata": {
            "tags": []
          },
          "execution_count": 78
        }
      ]
    },
    {
      "cell_type": "code",
      "metadata": {
        "colab": {
          "base_uri": "https://localhost:8080/",
          "height": 204
        },
        "id": "YAiFQPfd6TL8",
        "outputId": "6e0c9e76-582b-4791-86d1-4ee7deaa3880"
      },
      "source": [
        "df_2.head()"
      ],
      "execution_count": null,
      "outputs": [
        {
          "output_type": "execute_result",
          "data": {
            "text/html": [
              "<div>\n",
              "<style scoped>\n",
              "    .dataframe tbody tr th:only-of-type {\n",
              "        vertical-align: middle;\n",
              "    }\n",
              "\n",
              "    .dataframe tbody tr th {\n",
              "        vertical-align: top;\n",
              "    }\n",
              "\n",
              "    .dataframe thead th {\n",
              "        text-align: right;\n",
              "    }\n",
              "</style>\n",
              "<table border=\"1\" class=\"dataframe\">\n",
              "  <thead>\n",
              "    <tr style=\"text-align: right;\">\n",
              "      <th></th>\n",
              "      <th>location</th>\n",
              "      <th>size</th>\n",
              "      <th>total_sqft</th>\n",
              "      <th>bath</th>\n",
              "      <th>price</th>\n",
              "      <th>price_per_sqft</th>\n",
              "    </tr>\n",
              "  </thead>\n",
              "  <tbody>\n",
              "    <tr>\n",
              "      <th>0</th>\n",
              "      <td>Electronic City Phase II</td>\n",
              "      <td>2</td>\n",
              "      <td>1056</td>\n",
              "      <td>2</td>\n",
              "      <td>39.070</td>\n",
              "      <td>3699.811</td>\n",
              "    </tr>\n",
              "    <tr>\n",
              "      <th>1</th>\n",
              "      <td>Chikka Tirupathi</td>\n",
              "      <td>4</td>\n",
              "      <td>2600</td>\n",
              "      <td>5</td>\n",
              "      <td>120.000</td>\n",
              "      <td>4615.385</td>\n",
              "    </tr>\n",
              "    <tr>\n",
              "      <th>2</th>\n",
              "      <td>Uttarahalli</td>\n",
              "      <td>3</td>\n",
              "      <td>1440</td>\n",
              "      <td>2</td>\n",
              "      <td>62.000</td>\n",
              "      <td>4305.556</td>\n",
              "    </tr>\n",
              "    <tr>\n",
              "      <th>3</th>\n",
              "      <td>Lingadheeranahalli</td>\n",
              "      <td>3</td>\n",
              "      <td>1521</td>\n",
              "      <td>3</td>\n",
              "      <td>95.000</td>\n",
              "      <td>6245.891</td>\n",
              "    </tr>\n",
              "    <tr>\n",
              "      <th>4</th>\n",
              "      <td>Kothanur</td>\n",
              "      <td>2</td>\n",
              "      <td>1200</td>\n",
              "      <td>2</td>\n",
              "      <td>51.000</td>\n",
              "      <td>4250.000</td>\n",
              "    </tr>\n",
              "  </tbody>\n",
              "</table>\n",
              "</div>"
            ],
            "text/plain": [
              "                   location  size  total_sqft  bath   price  price_per_sqft\n",
              "0  Electronic City Phase II     2        1056     2  39.070        3699.811\n",
              "1          Chikka Tirupathi     4        2600     5 120.000        4615.385\n",
              "2               Uttarahalli     3        1440     2  62.000        4305.556\n",
              "3        Lingadheeranahalli     3        1521     3  95.000        6245.891\n",
              "4                  Kothanur     2        1200     2  51.000        4250.000"
            ]
          },
          "metadata": {
            "tags": []
          },
          "execution_count": 79
        }
      ]
    },
    {
      "cell_type": "code",
      "metadata": {
        "id": "kSG0vN_d6joA"
      },
      "source": [
        ""
      ],
      "execution_count": null,
      "outputs": []
    }
  ]
}